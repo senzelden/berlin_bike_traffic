{
 "cells": [
  {
   "cell_type": "code",
   "execution_count": 1,
   "metadata": {},
   "outputs": [],
   "source": [
    "import pandas as pd\n",
    "import plotly.express as px\n",
    "import plotly.graph_objects as go"
   ]
  },
  {
   "cell_type": "code",
   "execution_count": 2,
   "metadata": {},
   "outputs": [],
   "source": [
    "def prepare_dataframe(df):\n",
    "    \"\"\"updates dataframe for barchart\"\"\"\n",
    "    df['timestamp'] = pd.to_datetime(df['timestamp'])\n",
    "    df.set_index('timestamp', inplace=True)\n",
    "    return df"
   ]
  },
  {
   "cell_type": "code",
   "execution_count": 3,
   "metadata": {},
   "outputs": [],
   "source": [
    "df = pd.read_csv('berlin_bikedata_2017-2019.csv')"
   ]
  },
  {
   "cell_type": "code",
   "execution_count": 4,
   "metadata": {},
   "outputs": [
    {
     "data": {
      "text/html": [
       "<div>\n",
       "<style scoped>\n",
       "    .dataframe tbody tr th:only-of-type {\n",
       "        vertical-align: middle;\n",
       "    }\n",
       "\n",
       "    .dataframe tbody tr th {\n",
       "        vertical-align: top;\n",
       "    }\n",
       "\n",
       "    .dataframe thead th {\n",
       "        text-align: right;\n",
       "    }\n",
       "</style>\n",
       "<table border=\"1\" class=\"dataframe\">\n",
       "  <thead>\n",
       "    <tr style=\"text-align: right;\">\n",
       "      <th></th>\n",
       "      <th>station</th>\n",
       "      <th>total_bikes</th>\n",
       "      <th>hour</th>\n",
       "      <th>hour_str</th>\n",
       "      <th>weekday</th>\n",
       "      <th>day_name</th>\n",
       "      <th>month</th>\n",
       "      <th>month_name</th>\n",
       "      <th>year</th>\n",
       "      <th>description</th>\n",
       "      <th>lat</th>\n",
       "      <th>lon</th>\n",
       "    </tr>\n",
       "    <tr>\n",
       "      <th>timestamp</th>\n",
       "      <th></th>\n",
       "      <th></th>\n",
       "      <th></th>\n",
       "      <th></th>\n",
       "      <th></th>\n",
       "      <th></th>\n",
       "      <th></th>\n",
       "      <th></th>\n",
       "      <th></th>\n",
       "      <th></th>\n",
       "      <th></th>\n",
       "      <th></th>\n",
       "    </tr>\n",
       "  </thead>\n",
       "  <tbody>\n",
       "    <tr>\n",
       "      <th>2017-01-01 00:00:00</th>\n",
       "      <td>02-MI-JAN-N</td>\n",
       "      <td>6</td>\n",
       "      <td>0</td>\n",
       "      <td>0 Uhr</td>\n",
       "      <td>6</td>\n",
       "      <td>Sunday</td>\n",
       "      <td>1</td>\n",
       "      <td>January</td>\n",
       "      <td>2017</td>\n",
       "      <td>Jannowitzbrücke Nord</td>\n",
       "      <td>52.513932</td>\n",
       "      <td>13.417835</td>\n",
       "    </tr>\n",
       "    <tr>\n",
       "      <th>2017-01-01 00:00:00</th>\n",
       "      <td>02-MI-JAN-S</td>\n",
       "      <td>5</td>\n",
       "      <td>0</td>\n",
       "      <td>0 Uhr</td>\n",
       "      <td>6</td>\n",
       "      <td>Sunday</td>\n",
       "      <td>1</td>\n",
       "      <td>January</td>\n",
       "      <td>2017</td>\n",
       "      <td>Jannowitzbrücke Süd</td>\n",
       "      <td>52.513943</td>\n",
       "      <td>13.417611</td>\n",
       "    </tr>\n",
       "    <tr>\n",
       "      <th>2017-01-01 00:00:00</th>\n",
       "      <td>03-MI-SAN-O</td>\n",
       "      <td>4</td>\n",
       "      <td>0</td>\n",
       "      <td>0 Uhr</td>\n",
       "      <td>6</td>\n",
       "      <td>Sunday</td>\n",
       "      <td>1</td>\n",
       "      <td>January</td>\n",
       "      <td>2017</td>\n",
       "      <td>Invalidenstraße Ost</td>\n",
       "      <td>52.527177</td>\n",
       "      <td>13.372016</td>\n",
       "    </tr>\n",
       "    <tr>\n",
       "      <th>2017-01-01 00:00:00</th>\n",
       "      <td>03-MI-SAN-W</td>\n",
       "      <td>5</td>\n",
       "      <td>0</td>\n",
       "      <td>0 Uhr</td>\n",
       "      <td>6</td>\n",
       "      <td>Sunday</td>\n",
       "      <td>1</td>\n",
       "      <td>January</td>\n",
       "      <td>2017</td>\n",
       "      <td>Invalidenstraße West</td>\n",
       "      <td>52.527686</td>\n",
       "      <td>13.373105</td>\n",
       "    </tr>\n",
       "    <tr>\n",
       "      <th>2017-01-01 00:00:00</th>\n",
       "      <td>05-FK-OBB-O</td>\n",
       "      <td>16</td>\n",
       "      <td>0</td>\n",
       "      <td>0 Uhr</td>\n",
       "      <td>6</td>\n",
       "      <td>Sunday</td>\n",
       "      <td>1</td>\n",
       "      <td>January</td>\n",
       "      <td>2017</td>\n",
       "      <td>Oberbaumbrücke Ost</td>\n",
       "      <td>52.501199</td>\n",
       "      <td>13.445060</td>\n",
       "    </tr>\n",
       "    <tr>\n",
       "      <th>...</th>\n",
       "      <td>...</td>\n",
       "      <td>...</td>\n",
       "      <td>...</td>\n",
       "      <td>...</td>\n",
       "      <td>...</td>\n",
       "      <td>...</td>\n",
       "      <td>...</td>\n",
       "      <td>...</td>\n",
       "      <td>...</td>\n",
       "      <td>...</td>\n",
       "      <td>...</td>\n",
       "      <td>...</td>\n",
       "    </tr>\n",
       "    <tr>\n",
       "      <th>2019-12-31 23:00:00</th>\n",
       "      <td>21-NK-MAY</td>\n",
       "      <td>34</td>\n",
       "      <td>23</td>\n",
       "      <td>23 Uhr</td>\n",
       "      <td>1</td>\n",
       "      <td>Tuesday</td>\n",
       "      <td>12</td>\n",
       "      <td>December</td>\n",
       "      <td>2019</td>\n",
       "      <td>Maybachufer</td>\n",
       "      <td>52.493000</td>\n",
       "      <td>13.429000</td>\n",
       "    </tr>\n",
       "    <tr>\n",
       "      <th>2019-12-31 23:00:00</th>\n",
       "      <td>23-TK-KAI</td>\n",
       "      <td>6</td>\n",
       "      <td>23</td>\n",
       "      <td>23 Uhr</td>\n",
       "      <td>1</td>\n",
       "      <td>Tuesday</td>\n",
       "      <td>12</td>\n",
       "      <td>December</td>\n",
       "      <td>2019</td>\n",
       "      <td>Kaisersteg</td>\n",
       "      <td>52.457270</td>\n",
       "      <td>13.518700</td>\n",
       "    </tr>\n",
       "    <tr>\n",
       "      <th>2019-12-31 23:00:00</th>\n",
       "      <td>24-MH-ALB</td>\n",
       "      <td>0</td>\n",
       "      <td>23</td>\n",
       "      <td>23 Uhr</td>\n",
       "      <td>1</td>\n",
       "      <td>Tuesday</td>\n",
       "      <td>12</td>\n",
       "      <td>December</td>\n",
       "      <td>2019</td>\n",
       "      <td>Alberichstraße</td>\n",
       "      <td>52.492500</td>\n",
       "      <td>13.558490</td>\n",
       "    </tr>\n",
       "    <tr>\n",
       "      <th>2019-12-31 23:00:00</th>\n",
       "      <td>26-LI-PUP</td>\n",
       "      <td>13</td>\n",
       "      <td>23</td>\n",
       "      <td>23 Uhr</td>\n",
       "      <td>1</td>\n",
       "      <td>Tuesday</td>\n",
       "      <td>12</td>\n",
       "      <td>December</td>\n",
       "      <td>2019</td>\n",
       "      <td>Paul-und-Paula-Uferweg</td>\n",
       "      <td>52.500250</td>\n",
       "      <td>13.474380</td>\n",
       "    </tr>\n",
       "    <tr>\n",
       "      <th>2019-12-31 23:00:00</th>\n",
       "      <td>27-RE-MAR</td>\n",
       "      <td>7</td>\n",
       "      <td>23</td>\n",
       "      <td>23 Uhr</td>\n",
       "      <td>1</td>\n",
       "      <td>Tuesday</td>\n",
       "      <td>12</td>\n",
       "      <td>December</td>\n",
       "      <td>2019</td>\n",
       "      <td>Markstraße</td>\n",
       "      <td>52.558190</td>\n",
       "      <td>13.364943</td>\n",
       "    </tr>\n",
       "  </tbody>\n",
       "</table>\n",
       "<p>682479 rows × 12 columns</p>\n",
       "</div>"
      ],
      "text/plain": [
       "                         station  total_bikes  hour hour_str  weekday  \\\n",
       "timestamp                                                               \n",
       "2017-01-01 00:00:00  02-MI-JAN-N            6     0    0 Uhr        6   \n",
       "2017-01-01 00:00:00  02-MI-JAN-S            5     0    0 Uhr        6   \n",
       "2017-01-01 00:00:00  03-MI-SAN-O            4     0    0 Uhr        6   \n",
       "2017-01-01 00:00:00  03-MI-SAN-W            5     0    0 Uhr        6   \n",
       "2017-01-01 00:00:00  05-FK-OBB-O           16     0    0 Uhr        6   \n",
       "...                          ...          ...   ...      ...      ...   \n",
       "2019-12-31 23:00:00    21-NK-MAY           34    23   23 Uhr        1   \n",
       "2019-12-31 23:00:00    23-TK-KAI            6    23   23 Uhr        1   \n",
       "2019-12-31 23:00:00    24-MH-ALB            0    23   23 Uhr        1   \n",
       "2019-12-31 23:00:00    26-LI-PUP           13    23   23 Uhr        1   \n",
       "2019-12-31 23:00:00    27-RE-MAR            7    23   23 Uhr        1   \n",
       "\n",
       "                    day_name  month month_name  year             description  \\\n",
       "timestamp                                                                      \n",
       "2017-01-01 00:00:00   Sunday      1    January  2017    Jannowitzbrücke Nord   \n",
       "2017-01-01 00:00:00   Sunday      1    January  2017     Jannowitzbrücke Süd   \n",
       "2017-01-01 00:00:00   Sunday      1    January  2017     Invalidenstraße Ost   \n",
       "2017-01-01 00:00:00   Sunday      1    January  2017    Invalidenstraße West   \n",
       "2017-01-01 00:00:00   Sunday      1    January  2017      Oberbaumbrücke Ost   \n",
       "...                      ...    ...        ...   ...                     ...   \n",
       "2019-12-31 23:00:00  Tuesday     12   December  2019             Maybachufer   \n",
       "2019-12-31 23:00:00  Tuesday     12   December  2019              Kaisersteg   \n",
       "2019-12-31 23:00:00  Tuesday     12   December  2019          Alberichstraße   \n",
       "2019-12-31 23:00:00  Tuesday     12   December  2019  Paul-und-Paula-Uferweg   \n",
       "2019-12-31 23:00:00  Tuesday     12   December  2019              Markstraße   \n",
       "\n",
       "                           lat        lon  \n",
       "timestamp                                  \n",
       "2017-01-01 00:00:00  52.513932  13.417835  \n",
       "2017-01-01 00:00:00  52.513943  13.417611  \n",
       "2017-01-01 00:00:00  52.527177  13.372016  \n",
       "2017-01-01 00:00:00  52.527686  13.373105  \n",
       "2017-01-01 00:00:00  52.501199  13.445060  \n",
       "...                        ...        ...  \n",
       "2019-12-31 23:00:00  52.493000  13.429000  \n",
       "2019-12-31 23:00:00  52.457270  13.518700  \n",
       "2019-12-31 23:00:00  52.492500  13.558490  \n",
       "2019-12-31 23:00:00  52.500250  13.474380  \n",
       "2019-12-31 23:00:00  52.558190  13.364943  \n",
       "\n",
       "[682479 rows x 12 columns]"
      ]
     },
     "execution_count": 4,
     "metadata": {},
     "output_type": "execute_result"
    }
   ],
   "source": [
    "prepare_dataframe(df)"
   ]
  },
  {
   "cell_type": "markdown",
   "metadata": {},
   "source": [
    "### Barchart for all stations (to compare values)"
   ]
  },
  {
   "cell_type": "code",
   "execution_count": 5,
   "metadata": {},
   "outputs": [],
   "source": [
    "class ComparisonBetweenStations:\n",
    "    \"\"\"Parameters for comparison between stations\"\"\"\n",
    "    def __init__(self, years, aggregation):\n",
    "        self.years = years\n",
    "        if len(self.years) > 1: \n",
    "            self.years_string = '20' + '/'.join([str(year)[2:] for year in sorted(self.years)])\n",
    "        else:\n",
    "            self.years_string = ''.join(str(self.years[0]))\n",
    "        self.aggregation = aggregation"
   ]
  },
  {
   "cell_type": "code",
   "execution_count": 6,
   "metadata": {},
   "outputs": [],
   "source": [
    "comparison = ComparisonBetweenStations([2019], \"mean\")"
   ]
  },
  {
   "cell_type": "code",
   "execution_count": 7,
   "metadata": {},
   "outputs": [],
   "source": [
    "def aggregate(df, comparison):\n",
    "    \"\"\"returns aggregated dataframe\"\"\"\n",
    "    if comparison.aggregation == \"sum\":\n",
    "        bikes_df = df[df.index.year.isin(comparison.years)].groupby('description')[['total_bikes']].sum().sort_values('total_bikes', ascending=True)\n",
    "    elif comparison.aggregation == \"mean\":\n",
    "        bikes_df = df[df.index.year.isin(comparison.years)].groupby('description')[['total_bikes']].resample('D').sum().reset_index().groupby('description')[['total_bikes']].mean().sort_values('total_bikes', ascending=True)\n",
    "    return bikes_df"
   ]
  },
  {
   "cell_type": "code",
   "execution_count": 8,
   "metadata": {},
   "outputs": [],
   "source": [
    "bikes_df = aggregate(df, comparison)"
   ]
  },
  {
   "cell_type": "code",
   "execution_count": 9,
   "metadata": {},
   "outputs": [],
   "source": [
    "# Set general style for plotly graphs\n",
    "px.defaults.template = \"ggplot2\"\n",
    "px.defaults.color_continuous_scale = px.colors.sequential.Plasma_r"
   ]
  },
  {
   "cell_type": "code",
   "execution_count": 19,
   "metadata": {},
   "outputs": [],
   "source": [
    "selected_station = \"Schwedter Steg\""
   ]
  },
  {
   "cell_type": "code",
   "execution_count": 63,
   "metadata": {},
   "outputs": [],
   "source": [
    "def get_key(my_dict, val):\n",
    "    \"\"\"function to return key for any value\"\"\"\n",
    "    for key, value in my_dict.items():\n",
    "         if val == value:\n",
    "             return key\n",
    " \n",
    "    return \"key doesn't exist\"\n",
    "\n",
    "\n",
    "def map_colors(dataframe, station_name):\n",
    "    \"\"\"returns list of y values for horizontal bar and color map\"\"\"\n",
    "    stations_dict = dataframe.reset_index()['description'].to_dict()\n",
    "    colors = ['lightslategray',] * len(stations_dict)\n",
    "    colors[get_key(stations_dict, station_name)] = 'crimson'\n",
    "    stations_list = stations_dict.values()\n",
    "    color_map = dict(zip(stations_list, colors))\n",
    "    return stations_list, color_map"
   ]
  },
  {
   "cell_type": "code",
   "execution_count": 64,
   "metadata": {},
   "outputs": [],
   "source": [
    "stations_list, color_map = map_colors(bikes_df, selected_station)"
   ]
  },
  {
   "cell_type": "code",
   "execution_count": 65,
   "metadata": {},
   "outputs": [
    {
     "data": {
      "application/vnd.plotly.v1+json": {
       "config": {
        "plotlyServerURL": "https://plot.ly"
       },
       "data": [
        {
         "alignmentgroup": "True",
         "hovertemplate": "color=Invalidenstraße Ost<br>Total Bikes=%{x}<br>Bicycle Counter=%{y}<extra></extra>",
         "legendgroup": "Invalidenstraße Ost",
         "marker": {
          "color": "lightslategray"
         },
         "name": "Invalidenstraße Ost",
         "offsetgroup": "Invalidenstraße Ost",
         "orientation": "h",
         "showlegend": true,
         "textposition": "auto",
         "type": "bar",
         "x": [
          302.6575342465753
         ],
         "xaxis": "x",
         "y": [
          "Invalidenstraße Ost"
         ],
         "yaxis": "y"
        },
        {
         "alignmentgroup": "True",
         "hovertemplate": "color=Mariendorfer Damm Süd<br>Total Bikes=%{x}<br>Bicycle Counter=%{y}<extra></extra>",
         "legendgroup": "Mariendorfer Damm Süd",
         "marker": {
          "color": "lightslategray"
         },
         "name": "Mariendorfer Damm Süd",
         "offsetgroup": "Mariendorfer Damm Süd",
         "orientation": "h",
         "showlegend": true,
         "textposition": "auto",
         "type": "bar",
         "x": [
          470.3123287671233
         ],
         "xaxis": "x",
         "y": [
          "Mariendorfer Damm Süd"
         ],
         "yaxis": "y"
        },
        {
         "alignmentgroup": "True",
         "hovertemplate": "color=Alberichstraße<br>Total Bikes=%{x}<br>Bicycle Counter=%{y}<extra></extra>",
         "legendgroup": "Alberichstraße",
         "marker": {
          "color": "lightslategray"
         },
         "name": "Alberichstraße",
         "offsetgroup": "Alberichstraße",
         "orientation": "h",
         "showlegend": true,
         "textposition": "auto",
         "type": "bar",
         "x": [
          486.586301369863
         ],
         "xaxis": "x",
         "y": [
          "Alberichstraße"
         ],
         "yaxis": "y"
        },
        {
         "alignmentgroup": "True",
         "hovertemplate": "color=Mariendorfer Damm Nord<br>Total Bikes=%{x}<br>Bicycle Counter=%{y}<extra></extra>",
         "legendgroup": "Mariendorfer Damm Nord",
         "marker": {
          "color": "lightslategray"
         },
         "name": "Mariendorfer Damm Nord",
         "offsetgroup": "Mariendorfer Damm Nord",
         "orientation": "h",
         "showlegend": true,
         "textposition": "auto",
         "type": "bar",
         "x": [
          551.2684931506849
         ],
         "xaxis": "x",
         "y": [
          "Mariendorfer Damm Nord"
         ],
         "yaxis": "y"
        },
        {
         "alignmentgroup": "True",
         "hovertemplate": "color=Klosterstraße Nord<br>Total Bikes=%{x}<br>Bicycle Counter=%{y}<extra></extra>",
         "legendgroup": "Klosterstraße Nord",
         "marker": {
          "color": "lightslategray"
         },
         "name": "Klosterstraße Nord",
         "offsetgroup": "Klosterstraße Nord",
         "orientation": "h",
         "showlegend": true,
         "textposition": "auto",
         "type": "bar",
         "x": [
          716.8054794520548
         ],
         "xaxis": "x",
         "y": [
          "Klosterstraße Nord"
         ],
         "yaxis": "y"
        },
        {
         "alignmentgroup": "True",
         "hovertemplate": "color=Klosterstraße Süd<br>Total Bikes=%{x}<br>Bicycle Counter=%{y}<extra></extra>",
         "legendgroup": "Klosterstraße Süd",
         "marker": {
          "color": "lightslategray"
         },
         "name": "Klosterstraße Süd",
         "offsetgroup": "Klosterstraße Süd",
         "orientation": "h",
         "showlegend": true,
         "textposition": "auto",
         "type": "bar",
         "x": [
          768.3068493150685
         ],
         "xaxis": "x",
         "y": [
          "Klosterstraße Süd"
         ],
         "yaxis": "y"
        },
        {
         "alignmentgroup": "True",
         "hovertemplate": "color=Breitenbachplatz West<br>Total Bikes=%{x}<br>Bicycle Counter=%{y}<extra></extra>",
         "legendgroup": "Breitenbachplatz West",
         "marker": {
          "color": "lightslategray"
         },
         "name": "Breitenbachplatz West",
         "offsetgroup": "Breitenbachplatz West",
         "orientation": "h",
         "showlegend": true,
         "textposition": "auto",
         "type": "bar",
         "x": [
          932.0493150684931
         ],
         "xaxis": "x",
         "y": [
          "Breitenbachplatz West"
         ],
         "yaxis": "y"
        },
        {
         "alignmentgroup": "True",
         "hovertemplate": "color=Yorckstraße Ost<br>Total Bikes=%{x}<br>Bicycle Counter=%{y}<extra></extra>",
         "legendgroup": "Yorckstraße Ost",
         "marker": {
          "color": "lightslategray"
         },
         "name": "Yorckstraße Ost",
         "offsetgroup": "Yorckstraße Ost",
         "orientation": "h",
         "showlegend": true,
         "textposition": "auto",
         "type": "bar",
         "x": [
          974.7698630136987
         ],
         "xaxis": "x",
         "y": [
          "Yorckstraße Ost"
         ],
         "yaxis": "y"
        },
        {
         "alignmentgroup": "True",
         "hovertemplate": "color=Prinzregentenstraße<br>Total Bikes=%{x}<br>Bicycle Counter=%{y}<extra></extra>",
         "legendgroup": "Prinzregentenstraße",
         "marker": {
          "color": "lightslategray"
         },
         "name": "Prinzregentenstraße",
         "offsetgroup": "Prinzregentenstraße",
         "orientation": "h",
         "showlegend": true,
         "textposition": "auto",
         "type": "bar",
         "x": [
          1213.9342465753425
         ],
         "xaxis": "x",
         "y": [
          "Prinzregentenstraße"
         ],
         "yaxis": "y"
        },
        {
         "alignmentgroup": "True",
         "hovertemplate": "color=Markstraße<br>Total Bikes=%{x}<br>Bicycle Counter=%{y}<extra></extra>",
         "legendgroup": "Markstraße",
         "marker": {
          "color": "lightslategray"
         },
         "name": "Markstraße",
         "offsetgroup": "Markstraße",
         "orientation": "h",
         "showlegend": true,
         "textposition": "auto",
         "type": "bar",
         "x": [
          1221.0876712328768
         ],
         "xaxis": "x",
         "y": [
          "Markstraße"
         ],
         "yaxis": "y"
        },
        {
         "alignmentgroup": "True",
         "hovertemplate": "color=Kaisersteg<br>Total Bikes=%{x}<br>Bicycle Counter=%{y}<extra></extra>",
         "legendgroup": "Kaisersteg",
         "marker": {
          "color": "lightslategray"
         },
         "name": "Kaisersteg",
         "offsetgroup": "Kaisersteg",
         "orientation": "h",
         "showlegend": true,
         "textposition": "auto",
         "type": "bar",
         "x": [
          1224.3835616438357
         ],
         "xaxis": "x",
         "y": [
          "Kaisersteg"
         ],
         "yaxis": "y"
        },
        {
         "alignmentgroup": "True",
         "hovertemplate": "color=Breitenbachplatz Ost<br>Total Bikes=%{x}<br>Bicycle Counter=%{y}<extra></extra>",
         "legendgroup": "Breitenbachplatz Ost",
         "marker": {
          "color": "lightslategray"
         },
         "name": "Breitenbachplatz Ost",
         "offsetgroup": "Breitenbachplatz Ost",
         "orientation": "h",
         "showlegend": true,
         "textposition": "auto",
         "type": "bar",
         "x": [
          1237.627397260274
         ],
         "xaxis": "x",
         "y": [
          "Breitenbachplatz Ost"
         ],
         "yaxis": "y"
        },
        {
         "alignmentgroup": "True",
         "hovertemplate": "color=Oberbaumbrücke West<br>Total Bikes=%{x}<br>Bicycle Counter=%{y}<extra></extra>",
         "legendgroup": "Oberbaumbrücke West",
         "marker": {
          "color": "lightslategray"
         },
         "name": "Oberbaumbrücke West",
         "offsetgroup": "Oberbaumbrücke West",
         "orientation": "h",
         "showlegend": true,
         "textposition": "auto",
         "type": "bar",
         "x": [
          1678.6164383561643
         ],
         "xaxis": "x",
         "y": [
          "Oberbaumbrücke West"
         ],
         "yaxis": "y"
        },
        {
         "alignmentgroup": "True",
         "hovertemplate": "color=Frankfurter Allee West<br>Total Bikes=%{x}<br>Bicycle Counter=%{y}<extra></extra>",
         "legendgroup": "Frankfurter Allee West",
         "marker": {
          "color": "lightslategray"
         },
         "name": "Frankfurter Allee West",
         "offsetgroup": "Frankfurter Allee West",
         "orientation": "h",
         "showlegend": true,
         "textposition": "auto",
         "type": "bar",
         "x": [
          1780.4136986301369
         ],
         "xaxis": "x",
         "y": [
          "Frankfurter Allee West"
         ],
         "yaxis": "y"
        },
        {
         "alignmentgroup": "True",
         "hovertemplate": "color=Oberbaumbrücke Ost<br>Total Bikes=%{x}<br>Bicycle Counter=%{y}<extra></extra>",
         "legendgroup": "Oberbaumbrücke Ost",
         "marker": {
          "color": "lightslategray"
         },
         "name": "Oberbaumbrücke Ost",
         "offsetgroup": "Oberbaumbrücke Ost",
         "orientation": "h",
         "showlegend": true,
         "textposition": "auto",
         "type": "bar",
         "x": [
          1874.1260273972603
         ],
         "xaxis": "x",
         "y": [
          "Oberbaumbrücke Ost"
         ],
         "yaxis": "y"
        },
        {
         "alignmentgroup": "True",
         "hovertemplate": "color=Schwedter Steg<br>Total Bikes=%{x}<br>Bicycle Counter=%{y}<extra></extra>",
         "legendgroup": "Schwedter Steg",
         "marker": {
          "color": "crimson"
         },
         "name": "Schwedter Steg",
         "offsetgroup": "Schwedter Steg",
         "orientation": "h",
         "showlegend": true,
         "textposition": "auto",
         "type": "bar",
         "x": [
          2012.1205479452055
         ],
         "xaxis": "x",
         "y": [
          "Schwedter Steg"
         ],
         "yaxis": "y"
        },
        {
         "alignmentgroup": "True",
         "hovertemplate": "color=Frankfurter Allee Ost<br>Total Bikes=%{x}<br>Bicycle Counter=%{y}<extra></extra>",
         "legendgroup": "Frankfurter Allee Ost",
         "marker": {
          "color": "lightslategray"
         },
         "name": "Frankfurter Allee Ost",
         "offsetgroup": "Frankfurter Allee Ost",
         "orientation": "h",
         "showlegend": true,
         "textposition": "auto",
         "type": "bar",
         "x": [
          2125.6931506849314
         ],
         "xaxis": "x",
         "y": [
          "Frankfurter Allee Ost"
         ],
         "yaxis": "y"
        },
        {
         "alignmentgroup": "True",
         "hovertemplate": "color=Invalidenstraße West<br>Total Bikes=%{x}<br>Bicycle Counter=%{y}<extra></extra>",
         "legendgroup": "Invalidenstraße West",
         "marker": {
          "color": "lightslategray"
         },
         "name": "Invalidenstraße West",
         "offsetgroup": "Invalidenstraße West",
         "orientation": "h",
         "showlegend": true,
         "textposition": "auto",
         "type": "bar",
         "x": [
          2255.5013698630137
         ],
         "xaxis": "x",
         "y": [
          "Invalidenstraße West"
         ],
         "yaxis": "y"
        },
        {
         "alignmentgroup": "True",
         "hovertemplate": "color=Yorkstraße West<br>Total Bikes=%{x}<br>Bicycle Counter=%{y}<extra></extra>",
         "legendgroup": "Yorkstraße West",
         "marker": {
          "color": "lightslategray"
         },
         "name": "Yorkstraße West",
         "offsetgroup": "Yorkstraße West",
         "orientation": "h",
         "showlegend": true,
         "textposition": "auto",
         "type": "bar",
         "x": [
          2295.9205479452053
         ],
         "xaxis": "x",
         "y": [
          "Yorkstraße West"
         ],
         "yaxis": "y"
        },
        {
         "alignmentgroup": "True",
         "hovertemplate": "color=Berliner Straße Süd<br>Total Bikes=%{x}<br>Bicycle Counter=%{y}<extra></extra>",
         "legendgroup": "Berliner Straße Süd",
         "marker": {
          "color": "lightslategray"
         },
         "name": "Berliner Straße Süd",
         "offsetgroup": "Berliner Straße Süd",
         "orientation": "h",
         "showlegend": true,
         "textposition": "auto",
         "type": "bar",
         "x": [
          2485.5479452054797
         ],
         "xaxis": "x",
         "y": [
          "Berliner Straße Süd"
         ],
         "yaxis": "y"
        },
        {
         "alignmentgroup": "True",
         "hovertemplate": "color=Berliner Straße Nord<br>Total Bikes=%{x}<br>Bicycle Counter=%{y}<extra></extra>",
         "legendgroup": "Berliner Straße Nord",
         "marker": {
          "color": "lightslategray"
         },
         "name": "Berliner Straße Nord",
         "offsetgroup": "Berliner Straße Nord",
         "orientation": "h",
         "showlegend": true,
         "textposition": "auto",
         "type": "bar",
         "x": [
          2916.0520547945207
         ],
         "xaxis": "x",
         "y": [
          "Berliner Straße Nord"
         ],
         "yaxis": "y"
        },
        {
         "alignmentgroup": "True",
         "hovertemplate": "color=Paul-und-Paula-Uferweg<br>Total Bikes=%{x}<br>Bicycle Counter=%{y}<extra></extra>",
         "legendgroup": "Paul-und-Paula-Uferweg",
         "marker": {
          "color": "lightslategray"
         },
         "name": "Paul-und-Paula-Uferweg",
         "offsetgroup": "Paul-und-Paula-Uferweg",
         "orientation": "h",
         "showlegend": true,
         "textposition": "auto",
         "type": "bar",
         "x": [
          2982.912328767123
         ],
         "xaxis": "x",
         "y": [
          "Paul-und-Paula-Uferweg"
         ],
         "yaxis": "y"
        },
        {
         "alignmentgroup": "True",
         "hovertemplate": "color=Monumentenstraße<br>Total Bikes=%{x}<br>Bicycle Counter=%{y}<extra></extra>",
         "legendgroup": "Monumentenstraße",
         "marker": {
          "color": "lightslategray"
         },
         "name": "Monumentenstraße",
         "offsetgroup": "Monumentenstraße",
         "orientation": "h",
         "showlegend": true,
         "textposition": "auto",
         "type": "bar",
         "x": [
          3623.9205479452053
         ],
         "xaxis": "x",
         "y": [
          "Monumentenstraße"
         ],
         "yaxis": "y"
        },
        {
         "alignmentgroup": "True",
         "hovertemplate": "color=Jannowitzbrücke Nord<br>Total Bikes=%{x}<br>Bicycle Counter=%{y}<extra></extra>",
         "legendgroup": "Jannowitzbrücke Nord",
         "marker": {
          "color": "lightslategray"
         },
         "name": "Jannowitzbrücke Nord",
         "offsetgroup": "Jannowitzbrücke Nord",
         "orientation": "h",
         "showlegend": true,
         "textposition": "auto",
         "type": "bar",
         "x": [
          4022.035616438356
         ],
         "xaxis": "x",
         "y": [
          "Jannowitzbrücke Nord"
         ],
         "yaxis": "y"
        },
        {
         "alignmentgroup": "True",
         "hovertemplate": "color=Jannowitzbrücke Süd<br>Total Bikes=%{x}<br>Bicycle Counter=%{y}<extra></extra>",
         "legendgroup": "Jannowitzbrücke Süd",
         "marker": {
          "color": "lightslategray"
         },
         "name": "Jannowitzbrücke Süd",
         "offsetgroup": "Jannowitzbrücke Süd",
         "orientation": "h",
         "showlegend": true,
         "textposition": "auto",
         "type": "bar",
         "x": [
          4198.454794520548
         ],
         "xaxis": "x",
         "y": [
          "Jannowitzbrücke Süd"
         ],
         "yaxis": "y"
        },
        {
         "alignmentgroup": "True",
         "hovertemplate": "color=Maybachufer<br>Total Bikes=%{x}<br>Bicycle Counter=%{y}<extra></extra>",
         "legendgroup": "Maybachufer",
         "marker": {
          "color": "lightslategray"
         },
         "name": "Maybachufer",
         "offsetgroup": "Maybachufer",
         "orientation": "h",
         "showlegend": true,
         "textposition": "auto",
         "type": "bar",
         "x": [
          5030.750684931507
         ],
         "xaxis": "x",
         "y": [
          "Maybachufer"
         ],
         "yaxis": "y"
        }
       ],
       "layout": {
        "annotations": [
         {
          "font": {
           "color": "black",
           "family": "Arial",
           "size": 100
          },
          "opacity": 0.1,
          "showarrow": false,
          "text": "2019",
          "x": 1,
          "xref": "paper",
          "y": -0.06,
          "yref": "paper"
         }
        ],
        "barmode": "relative",
        "legend": {
         "title": {
          "text": "color"
         },
         "tracegroupgap": 0
        },
        "margin": {
         "t": 60
        },
        "template": {
         "data": {
          "bar": [
           {
            "error_x": {
             "color": "rgb(51,51,51)"
            },
            "error_y": {
             "color": "rgb(51,51,51)"
            },
            "marker": {
             "line": {
              "color": "rgb(237,237,237)",
              "width": 0.5
             }
            },
            "type": "bar"
           }
          ],
          "barpolar": [
           {
            "marker": {
             "line": {
              "color": "rgb(237,237,237)",
              "width": 0.5
             }
            },
            "type": "barpolar"
           }
          ],
          "carpet": [
           {
            "aaxis": {
             "endlinecolor": "rgb(51,51,51)",
             "gridcolor": "white",
             "linecolor": "white",
             "minorgridcolor": "white",
             "startlinecolor": "rgb(51,51,51)"
            },
            "baxis": {
             "endlinecolor": "rgb(51,51,51)",
             "gridcolor": "white",
             "linecolor": "white",
             "minorgridcolor": "white",
             "startlinecolor": "rgb(51,51,51)"
            },
            "type": "carpet"
           }
          ],
          "choropleth": [
           {
            "colorbar": {
             "outlinewidth": 0,
             "tickcolor": "rgb(237,237,237)",
             "ticklen": 6,
             "ticks": "inside"
            },
            "type": "choropleth"
           }
          ],
          "contour": [
           {
            "colorbar": {
             "outlinewidth": 0,
             "tickcolor": "rgb(237,237,237)",
             "ticklen": 6,
             "ticks": "inside"
            },
            "colorscale": [
             [
              0,
              "rgb(20,44,66)"
             ],
             [
              1,
              "rgb(90,179,244)"
             ]
            ],
            "type": "contour"
           }
          ],
          "contourcarpet": [
           {
            "colorbar": {
             "outlinewidth": 0,
             "tickcolor": "rgb(237,237,237)",
             "ticklen": 6,
             "ticks": "inside"
            },
            "type": "contourcarpet"
           }
          ],
          "heatmap": [
           {
            "colorbar": {
             "outlinewidth": 0,
             "tickcolor": "rgb(237,237,237)",
             "ticklen": 6,
             "ticks": "inside"
            },
            "colorscale": [
             [
              0,
              "rgb(20,44,66)"
             ],
             [
              1,
              "rgb(90,179,244)"
             ]
            ],
            "type": "heatmap"
           }
          ],
          "heatmapgl": [
           {
            "colorbar": {
             "outlinewidth": 0,
             "tickcolor": "rgb(237,237,237)",
             "ticklen": 6,
             "ticks": "inside"
            },
            "colorscale": [
             [
              0,
              "rgb(20,44,66)"
             ],
             [
              1,
              "rgb(90,179,244)"
             ]
            ],
            "type": "heatmapgl"
           }
          ],
          "histogram": [
           {
            "marker": {
             "colorbar": {
              "outlinewidth": 0,
              "tickcolor": "rgb(237,237,237)",
              "ticklen": 6,
              "ticks": "inside"
             }
            },
            "type": "histogram"
           }
          ],
          "histogram2d": [
           {
            "colorbar": {
             "outlinewidth": 0,
             "tickcolor": "rgb(237,237,237)",
             "ticklen": 6,
             "ticks": "inside"
            },
            "colorscale": [
             [
              0,
              "rgb(20,44,66)"
             ],
             [
              1,
              "rgb(90,179,244)"
             ]
            ],
            "type": "histogram2d"
           }
          ],
          "histogram2dcontour": [
           {
            "colorbar": {
             "outlinewidth": 0,
             "tickcolor": "rgb(237,237,237)",
             "ticklen": 6,
             "ticks": "inside"
            },
            "colorscale": [
             [
              0,
              "rgb(20,44,66)"
             ],
             [
              1,
              "rgb(90,179,244)"
             ]
            ],
            "type": "histogram2dcontour"
           }
          ],
          "mesh3d": [
           {
            "colorbar": {
             "outlinewidth": 0,
             "tickcolor": "rgb(237,237,237)",
             "ticklen": 6,
             "ticks": "inside"
            },
            "type": "mesh3d"
           }
          ],
          "parcoords": [
           {
            "line": {
             "colorbar": {
              "outlinewidth": 0,
              "tickcolor": "rgb(237,237,237)",
              "ticklen": 6,
              "ticks": "inside"
             }
            },
            "type": "parcoords"
           }
          ],
          "pie": [
           {
            "automargin": true,
            "type": "pie"
           }
          ],
          "scatter": [
           {
            "marker": {
             "colorbar": {
              "outlinewidth": 0,
              "tickcolor": "rgb(237,237,237)",
              "ticklen": 6,
              "ticks": "inside"
             }
            },
            "type": "scatter"
           }
          ],
          "scatter3d": [
           {
            "line": {
             "colorbar": {
              "outlinewidth": 0,
              "tickcolor": "rgb(237,237,237)",
              "ticklen": 6,
              "ticks": "inside"
             }
            },
            "marker": {
             "colorbar": {
              "outlinewidth": 0,
              "tickcolor": "rgb(237,237,237)",
              "ticklen": 6,
              "ticks": "inside"
             }
            },
            "type": "scatter3d"
           }
          ],
          "scattercarpet": [
           {
            "marker": {
             "colorbar": {
              "outlinewidth": 0,
              "tickcolor": "rgb(237,237,237)",
              "ticklen": 6,
              "ticks": "inside"
             }
            },
            "type": "scattercarpet"
           }
          ],
          "scattergeo": [
           {
            "marker": {
             "colorbar": {
              "outlinewidth": 0,
              "tickcolor": "rgb(237,237,237)",
              "ticklen": 6,
              "ticks": "inside"
             }
            },
            "type": "scattergeo"
           }
          ],
          "scattergl": [
           {
            "marker": {
             "colorbar": {
              "outlinewidth": 0,
              "tickcolor": "rgb(237,237,237)",
              "ticklen": 6,
              "ticks": "inside"
             }
            },
            "type": "scattergl"
           }
          ],
          "scattermapbox": [
           {
            "marker": {
             "colorbar": {
              "outlinewidth": 0,
              "tickcolor": "rgb(237,237,237)",
              "ticklen": 6,
              "ticks": "inside"
             }
            },
            "type": "scattermapbox"
           }
          ],
          "scatterpolar": [
           {
            "marker": {
             "colorbar": {
              "outlinewidth": 0,
              "tickcolor": "rgb(237,237,237)",
              "ticklen": 6,
              "ticks": "inside"
             }
            },
            "type": "scatterpolar"
           }
          ],
          "scatterpolargl": [
           {
            "marker": {
             "colorbar": {
              "outlinewidth": 0,
              "tickcolor": "rgb(237,237,237)",
              "ticklen": 6,
              "ticks": "inside"
             }
            },
            "type": "scatterpolargl"
           }
          ],
          "scatterternary": [
           {
            "marker": {
             "colorbar": {
              "outlinewidth": 0,
              "tickcolor": "rgb(237,237,237)",
              "ticklen": 6,
              "ticks": "inside"
             }
            },
            "type": "scatterternary"
           }
          ],
          "surface": [
           {
            "colorbar": {
             "outlinewidth": 0,
             "tickcolor": "rgb(237,237,237)",
             "ticklen": 6,
             "ticks": "inside"
            },
            "colorscale": [
             [
              0,
              "rgb(20,44,66)"
             ],
             [
              1,
              "rgb(90,179,244)"
             ]
            ],
            "type": "surface"
           }
          ],
          "table": [
           {
            "cells": {
             "fill": {
              "color": "rgb(237,237,237)"
             },
             "line": {
              "color": "white"
             }
            },
            "header": {
             "fill": {
              "color": "rgb(217,217,217)"
             },
             "line": {
              "color": "white"
             }
            },
            "type": "table"
           }
          ]
         },
         "layout": {
          "annotationdefaults": {
           "arrowhead": 0,
           "arrowwidth": 1
          },
          "coloraxis": {
           "colorbar": {
            "outlinewidth": 0,
            "tickcolor": "rgb(237,237,237)",
            "ticklen": 6,
            "ticks": "inside"
           }
          },
          "colorscale": {
           "sequential": [
            [
             0,
             "rgb(20,44,66)"
            ],
            [
             1,
             "rgb(90,179,244)"
            ]
           ],
           "sequentialminus": [
            [
             0,
             "rgb(20,44,66)"
            ],
            [
             1,
             "rgb(90,179,244)"
            ]
           ]
          },
          "colorway": [
           "#F8766D",
           "#A3A500",
           "#00BF7D",
           "#00B0F6",
           "#E76BF3"
          ],
          "font": {
           "color": "rgb(51,51,51)"
          },
          "geo": {
           "bgcolor": "white",
           "lakecolor": "white",
           "landcolor": "rgb(237,237,237)",
           "showlakes": true,
           "showland": true,
           "subunitcolor": "white"
          },
          "hoverlabel": {
           "align": "left"
          },
          "hovermode": "closest",
          "paper_bgcolor": "white",
          "plot_bgcolor": "rgb(237,237,237)",
          "polar": {
           "angularaxis": {
            "gridcolor": "white",
            "linecolor": "white",
            "showgrid": true,
            "tickcolor": "rgb(51,51,51)",
            "ticks": "outside"
           },
           "bgcolor": "rgb(237,237,237)",
           "radialaxis": {
            "gridcolor": "white",
            "linecolor": "white",
            "showgrid": true,
            "tickcolor": "rgb(51,51,51)",
            "ticks": "outside"
           }
          },
          "scene": {
           "xaxis": {
            "backgroundcolor": "rgb(237,237,237)",
            "gridcolor": "white",
            "gridwidth": 2,
            "linecolor": "white",
            "showbackground": true,
            "showgrid": true,
            "tickcolor": "rgb(51,51,51)",
            "ticks": "outside",
            "zerolinecolor": "white"
           },
           "yaxis": {
            "backgroundcolor": "rgb(237,237,237)",
            "gridcolor": "white",
            "gridwidth": 2,
            "linecolor": "white",
            "showbackground": true,
            "showgrid": true,
            "tickcolor": "rgb(51,51,51)",
            "ticks": "outside",
            "zerolinecolor": "white"
           },
           "zaxis": {
            "backgroundcolor": "rgb(237,237,237)",
            "gridcolor": "white",
            "gridwidth": 2,
            "linecolor": "white",
            "showbackground": true,
            "showgrid": true,
            "tickcolor": "rgb(51,51,51)",
            "ticks": "outside",
            "zerolinecolor": "white"
           }
          },
          "shapedefaults": {
           "fillcolor": "black",
           "line": {
            "width": 0
           },
           "opacity": 0.3
          },
          "ternary": {
           "aaxis": {
            "gridcolor": "white",
            "linecolor": "white",
            "showgrid": true,
            "tickcolor": "rgb(51,51,51)",
            "ticks": "outside"
           },
           "baxis": {
            "gridcolor": "white",
            "linecolor": "white",
            "showgrid": true,
            "tickcolor": "rgb(51,51,51)",
            "ticks": "outside"
           },
           "bgcolor": "rgb(237,237,237)",
           "caxis": {
            "gridcolor": "white",
            "linecolor": "white",
            "showgrid": true,
            "tickcolor": "rgb(51,51,51)",
            "ticks": "outside"
           }
          },
          "xaxis": {
           "automargin": true,
           "gridcolor": "white",
           "linecolor": "white",
           "showgrid": true,
           "tickcolor": "rgb(51,51,51)",
           "ticks": "outside",
           "title": {
            "standoff": 15
           },
           "zerolinecolor": "white"
          },
          "yaxis": {
           "automargin": true,
           "gridcolor": "white",
           "linecolor": "white",
           "showgrid": true,
           "tickcolor": "rgb(51,51,51)",
           "ticks": "outside",
           "title": {
            "standoff": 15
           },
           "zerolinecolor": "white"
          }
         }
        },
        "xaxis": {
         "anchor": "y",
         "domain": [
          0,
          1
         ],
         "title": {
          "text": "Total Bikes"
         }
        },
        "yaxis": {
         "anchor": "x",
         "domain": [
          0,
          1
         ],
         "title": {
          "text": "Bicycle Counter"
         }
        }
       }
      },
      "text/html": [
       "<div>                            <div id=\"4dd45ac6-4246-4f39-87b7-9c6f2f7c129d\" class=\"plotly-graph-div\" style=\"height:525px; width:100%;\"></div>            <script type=\"text/javascript\">                require([\"plotly\"], function(Plotly) {                    window.PLOTLYENV=window.PLOTLYENV || {};                                    if (document.getElementById(\"4dd45ac6-4246-4f39-87b7-9c6f2f7c129d\")) {                    Plotly.newPlot(                        \"4dd45ac6-4246-4f39-87b7-9c6f2f7c129d\",                        [{\"alignmentgroup\": \"True\", \"hovertemplate\": \"color=Invalidenstra\\u00dfe Ost<br>Total Bikes=%{x}<br>Bicycle Counter=%{y}<extra></extra>\", \"legendgroup\": \"Invalidenstra\\u00dfe Ost\", \"marker\": {\"color\": \"lightslategray\"}, \"name\": \"Invalidenstra\\u00dfe Ost\", \"offsetgroup\": \"Invalidenstra\\u00dfe Ost\", \"orientation\": \"h\", \"showlegend\": true, \"textposition\": \"auto\", \"type\": \"bar\", \"x\": [302.6575342465753], \"xaxis\": \"x\", \"y\": [\"Invalidenstra\\u00dfe Ost\"], \"yaxis\": \"y\"}, {\"alignmentgroup\": \"True\", \"hovertemplate\": \"color=Mariendorfer Damm S\\u00fcd<br>Total Bikes=%{x}<br>Bicycle Counter=%{y}<extra></extra>\", \"legendgroup\": \"Mariendorfer Damm S\\u00fcd\", \"marker\": {\"color\": \"lightslategray\"}, \"name\": \"Mariendorfer Damm S\\u00fcd\", \"offsetgroup\": \"Mariendorfer Damm S\\u00fcd\", \"orientation\": \"h\", \"showlegend\": true, \"textposition\": \"auto\", \"type\": \"bar\", \"x\": [470.3123287671233], \"xaxis\": \"x\", \"y\": [\"Mariendorfer Damm S\\u00fcd\"], \"yaxis\": \"y\"}, {\"alignmentgroup\": \"True\", \"hovertemplate\": \"color=Alberichstra\\u00dfe<br>Total Bikes=%{x}<br>Bicycle Counter=%{y}<extra></extra>\", \"legendgroup\": \"Alberichstra\\u00dfe\", \"marker\": {\"color\": \"lightslategray\"}, \"name\": \"Alberichstra\\u00dfe\", \"offsetgroup\": \"Alberichstra\\u00dfe\", \"orientation\": \"h\", \"showlegend\": true, \"textposition\": \"auto\", \"type\": \"bar\", \"x\": [486.586301369863], \"xaxis\": \"x\", \"y\": [\"Alberichstra\\u00dfe\"], \"yaxis\": \"y\"}, {\"alignmentgroup\": \"True\", \"hovertemplate\": \"color=Mariendorfer Damm Nord<br>Total Bikes=%{x}<br>Bicycle Counter=%{y}<extra></extra>\", \"legendgroup\": \"Mariendorfer Damm Nord\", \"marker\": {\"color\": \"lightslategray\"}, \"name\": \"Mariendorfer Damm Nord\", \"offsetgroup\": \"Mariendorfer Damm Nord\", \"orientation\": \"h\", \"showlegend\": true, \"textposition\": \"auto\", \"type\": \"bar\", \"x\": [551.2684931506849], \"xaxis\": \"x\", \"y\": [\"Mariendorfer Damm Nord\"], \"yaxis\": \"y\"}, {\"alignmentgroup\": \"True\", \"hovertemplate\": \"color=Klosterstra\\u00dfe Nord<br>Total Bikes=%{x}<br>Bicycle Counter=%{y}<extra></extra>\", \"legendgroup\": \"Klosterstra\\u00dfe Nord\", \"marker\": {\"color\": \"lightslategray\"}, \"name\": \"Klosterstra\\u00dfe Nord\", \"offsetgroup\": \"Klosterstra\\u00dfe Nord\", \"orientation\": \"h\", \"showlegend\": true, \"textposition\": \"auto\", \"type\": \"bar\", \"x\": [716.8054794520548], \"xaxis\": \"x\", \"y\": [\"Klosterstra\\u00dfe Nord\"], \"yaxis\": \"y\"}, {\"alignmentgroup\": \"True\", \"hovertemplate\": \"color=Klosterstra\\u00dfe S\\u00fcd<br>Total Bikes=%{x}<br>Bicycle Counter=%{y}<extra></extra>\", \"legendgroup\": \"Klosterstra\\u00dfe S\\u00fcd\", \"marker\": {\"color\": \"lightslategray\"}, \"name\": \"Klosterstra\\u00dfe S\\u00fcd\", \"offsetgroup\": \"Klosterstra\\u00dfe S\\u00fcd\", \"orientation\": \"h\", \"showlegend\": true, \"textposition\": \"auto\", \"type\": \"bar\", \"x\": [768.3068493150685], \"xaxis\": \"x\", \"y\": [\"Klosterstra\\u00dfe S\\u00fcd\"], \"yaxis\": \"y\"}, {\"alignmentgroup\": \"True\", \"hovertemplate\": \"color=Breitenbachplatz West<br>Total Bikes=%{x}<br>Bicycle Counter=%{y}<extra></extra>\", \"legendgroup\": \"Breitenbachplatz West\", \"marker\": {\"color\": \"lightslategray\"}, \"name\": \"Breitenbachplatz West\", \"offsetgroup\": \"Breitenbachplatz West\", \"orientation\": \"h\", \"showlegend\": true, \"textposition\": \"auto\", \"type\": \"bar\", \"x\": [932.0493150684931], \"xaxis\": \"x\", \"y\": [\"Breitenbachplatz West\"], \"yaxis\": \"y\"}, {\"alignmentgroup\": \"True\", \"hovertemplate\": \"color=Yorckstra\\u00dfe Ost<br>Total Bikes=%{x}<br>Bicycle Counter=%{y}<extra></extra>\", \"legendgroup\": \"Yorckstra\\u00dfe Ost\", \"marker\": {\"color\": \"lightslategray\"}, \"name\": \"Yorckstra\\u00dfe Ost\", \"offsetgroup\": \"Yorckstra\\u00dfe Ost\", \"orientation\": \"h\", \"showlegend\": true, \"textposition\": \"auto\", \"type\": \"bar\", \"x\": [974.7698630136987], \"xaxis\": \"x\", \"y\": [\"Yorckstra\\u00dfe Ost\"], \"yaxis\": \"y\"}, {\"alignmentgroup\": \"True\", \"hovertemplate\": \"color=Prinzregentenstra\\u00dfe<br>Total Bikes=%{x}<br>Bicycle Counter=%{y}<extra></extra>\", \"legendgroup\": \"Prinzregentenstra\\u00dfe\", \"marker\": {\"color\": \"lightslategray\"}, \"name\": \"Prinzregentenstra\\u00dfe\", \"offsetgroup\": \"Prinzregentenstra\\u00dfe\", \"orientation\": \"h\", \"showlegend\": true, \"textposition\": \"auto\", \"type\": \"bar\", \"x\": [1213.9342465753425], \"xaxis\": \"x\", \"y\": [\"Prinzregentenstra\\u00dfe\"], \"yaxis\": \"y\"}, {\"alignmentgroup\": \"True\", \"hovertemplate\": \"color=Markstra\\u00dfe<br>Total Bikes=%{x}<br>Bicycle Counter=%{y}<extra></extra>\", \"legendgroup\": \"Markstra\\u00dfe\", \"marker\": {\"color\": \"lightslategray\"}, \"name\": \"Markstra\\u00dfe\", \"offsetgroup\": \"Markstra\\u00dfe\", \"orientation\": \"h\", \"showlegend\": true, \"textposition\": \"auto\", \"type\": \"bar\", \"x\": [1221.0876712328768], \"xaxis\": \"x\", \"y\": [\"Markstra\\u00dfe\"], \"yaxis\": \"y\"}, {\"alignmentgroup\": \"True\", \"hovertemplate\": \"color=Kaisersteg<br>Total Bikes=%{x}<br>Bicycle Counter=%{y}<extra></extra>\", \"legendgroup\": \"Kaisersteg\", \"marker\": {\"color\": \"lightslategray\"}, \"name\": \"Kaisersteg\", \"offsetgroup\": \"Kaisersteg\", \"orientation\": \"h\", \"showlegend\": true, \"textposition\": \"auto\", \"type\": \"bar\", \"x\": [1224.3835616438357], \"xaxis\": \"x\", \"y\": [\"Kaisersteg\"], \"yaxis\": \"y\"}, {\"alignmentgroup\": \"True\", \"hovertemplate\": \"color=Breitenbachplatz Ost<br>Total Bikes=%{x}<br>Bicycle Counter=%{y}<extra></extra>\", \"legendgroup\": \"Breitenbachplatz Ost\", \"marker\": {\"color\": \"lightslategray\"}, \"name\": \"Breitenbachplatz Ost\", \"offsetgroup\": \"Breitenbachplatz Ost\", \"orientation\": \"h\", \"showlegend\": true, \"textposition\": \"auto\", \"type\": \"bar\", \"x\": [1237.627397260274], \"xaxis\": \"x\", \"y\": [\"Breitenbachplatz Ost\"], \"yaxis\": \"y\"}, {\"alignmentgroup\": \"True\", \"hovertemplate\": \"color=Oberbaumbr\\u00fccke West<br>Total Bikes=%{x}<br>Bicycle Counter=%{y}<extra></extra>\", \"legendgroup\": \"Oberbaumbr\\u00fccke West\", \"marker\": {\"color\": \"lightslategray\"}, \"name\": \"Oberbaumbr\\u00fccke West\", \"offsetgroup\": \"Oberbaumbr\\u00fccke West\", \"orientation\": \"h\", \"showlegend\": true, \"textposition\": \"auto\", \"type\": \"bar\", \"x\": [1678.6164383561643], \"xaxis\": \"x\", \"y\": [\"Oberbaumbr\\u00fccke West\"], \"yaxis\": \"y\"}, {\"alignmentgroup\": \"True\", \"hovertemplate\": \"color=Frankfurter Allee West<br>Total Bikes=%{x}<br>Bicycle Counter=%{y}<extra></extra>\", \"legendgroup\": \"Frankfurter Allee West\", \"marker\": {\"color\": \"lightslategray\"}, \"name\": \"Frankfurter Allee West\", \"offsetgroup\": \"Frankfurter Allee West\", \"orientation\": \"h\", \"showlegend\": true, \"textposition\": \"auto\", \"type\": \"bar\", \"x\": [1780.4136986301369], \"xaxis\": \"x\", \"y\": [\"Frankfurter Allee West\"], \"yaxis\": \"y\"}, {\"alignmentgroup\": \"True\", \"hovertemplate\": \"color=Oberbaumbr\\u00fccke Ost<br>Total Bikes=%{x}<br>Bicycle Counter=%{y}<extra></extra>\", \"legendgroup\": \"Oberbaumbr\\u00fccke Ost\", \"marker\": {\"color\": \"lightslategray\"}, \"name\": \"Oberbaumbr\\u00fccke Ost\", \"offsetgroup\": \"Oberbaumbr\\u00fccke Ost\", \"orientation\": \"h\", \"showlegend\": true, \"textposition\": \"auto\", \"type\": \"bar\", \"x\": [1874.1260273972603], \"xaxis\": \"x\", \"y\": [\"Oberbaumbr\\u00fccke Ost\"], \"yaxis\": \"y\"}, {\"alignmentgroup\": \"True\", \"hovertemplate\": \"color=Schwedter Steg<br>Total Bikes=%{x}<br>Bicycle Counter=%{y}<extra></extra>\", \"legendgroup\": \"Schwedter Steg\", \"marker\": {\"color\": \"crimson\"}, \"name\": \"Schwedter Steg\", \"offsetgroup\": \"Schwedter Steg\", \"orientation\": \"h\", \"showlegend\": true, \"textposition\": \"auto\", \"type\": \"bar\", \"x\": [2012.1205479452055], \"xaxis\": \"x\", \"y\": [\"Schwedter Steg\"], \"yaxis\": \"y\"}, {\"alignmentgroup\": \"True\", \"hovertemplate\": \"color=Frankfurter Allee Ost<br>Total Bikes=%{x}<br>Bicycle Counter=%{y}<extra></extra>\", \"legendgroup\": \"Frankfurter Allee Ost\", \"marker\": {\"color\": \"lightslategray\"}, \"name\": \"Frankfurter Allee Ost\", \"offsetgroup\": \"Frankfurter Allee Ost\", \"orientation\": \"h\", \"showlegend\": true, \"textposition\": \"auto\", \"type\": \"bar\", \"x\": [2125.6931506849314], \"xaxis\": \"x\", \"y\": [\"Frankfurter Allee Ost\"], \"yaxis\": \"y\"}, {\"alignmentgroup\": \"True\", \"hovertemplate\": \"color=Invalidenstra\\u00dfe West<br>Total Bikes=%{x}<br>Bicycle Counter=%{y}<extra></extra>\", \"legendgroup\": \"Invalidenstra\\u00dfe West\", \"marker\": {\"color\": \"lightslategray\"}, \"name\": \"Invalidenstra\\u00dfe West\", \"offsetgroup\": \"Invalidenstra\\u00dfe West\", \"orientation\": \"h\", \"showlegend\": true, \"textposition\": \"auto\", \"type\": \"bar\", \"x\": [2255.5013698630137], \"xaxis\": \"x\", \"y\": [\"Invalidenstra\\u00dfe West\"], \"yaxis\": \"y\"}, {\"alignmentgroup\": \"True\", \"hovertemplate\": \"color=Yorkstra\\u00dfe West<br>Total Bikes=%{x}<br>Bicycle Counter=%{y}<extra></extra>\", \"legendgroup\": \"Yorkstra\\u00dfe West\", \"marker\": {\"color\": \"lightslategray\"}, \"name\": \"Yorkstra\\u00dfe West\", \"offsetgroup\": \"Yorkstra\\u00dfe West\", \"orientation\": \"h\", \"showlegend\": true, \"textposition\": \"auto\", \"type\": \"bar\", \"x\": [2295.9205479452053], \"xaxis\": \"x\", \"y\": [\"Yorkstra\\u00dfe West\"], \"yaxis\": \"y\"}, {\"alignmentgroup\": \"True\", \"hovertemplate\": \"color=Berliner Stra\\u00dfe S\\u00fcd<br>Total Bikes=%{x}<br>Bicycle Counter=%{y}<extra></extra>\", \"legendgroup\": \"Berliner Stra\\u00dfe S\\u00fcd\", \"marker\": {\"color\": \"lightslategray\"}, \"name\": \"Berliner Stra\\u00dfe S\\u00fcd\", \"offsetgroup\": \"Berliner Stra\\u00dfe S\\u00fcd\", \"orientation\": \"h\", \"showlegend\": true, \"textposition\": \"auto\", \"type\": \"bar\", \"x\": [2485.5479452054797], \"xaxis\": \"x\", \"y\": [\"Berliner Stra\\u00dfe S\\u00fcd\"], \"yaxis\": \"y\"}, {\"alignmentgroup\": \"True\", \"hovertemplate\": \"color=Berliner Stra\\u00dfe Nord<br>Total Bikes=%{x}<br>Bicycle Counter=%{y}<extra></extra>\", \"legendgroup\": \"Berliner Stra\\u00dfe Nord\", \"marker\": {\"color\": \"lightslategray\"}, \"name\": \"Berliner Stra\\u00dfe Nord\", \"offsetgroup\": \"Berliner Stra\\u00dfe Nord\", \"orientation\": \"h\", \"showlegend\": true, \"textposition\": \"auto\", \"type\": \"bar\", \"x\": [2916.0520547945207], \"xaxis\": \"x\", \"y\": [\"Berliner Stra\\u00dfe Nord\"], \"yaxis\": \"y\"}, {\"alignmentgroup\": \"True\", \"hovertemplate\": \"color=Paul-und-Paula-Uferweg<br>Total Bikes=%{x}<br>Bicycle Counter=%{y}<extra></extra>\", \"legendgroup\": \"Paul-und-Paula-Uferweg\", \"marker\": {\"color\": \"lightslategray\"}, \"name\": \"Paul-und-Paula-Uferweg\", \"offsetgroup\": \"Paul-und-Paula-Uferweg\", \"orientation\": \"h\", \"showlegend\": true, \"textposition\": \"auto\", \"type\": \"bar\", \"x\": [2982.912328767123], \"xaxis\": \"x\", \"y\": [\"Paul-und-Paula-Uferweg\"], \"yaxis\": \"y\"}, {\"alignmentgroup\": \"True\", \"hovertemplate\": \"color=Monumentenstra\\u00dfe<br>Total Bikes=%{x}<br>Bicycle Counter=%{y}<extra></extra>\", \"legendgroup\": \"Monumentenstra\\u00dfe\", \"marker\": {\"color\": \"lightslategray\"}, \"name\": \"Monumentenstra\\u00dfe\", \"offsetgroup\": \"Monumentenstra\\u00dfe\", \"orientation\": \"h\", \"showlegend\": true, \"textposition\": \"auto\", \"type\": \"bar\", \"x\": [3623.9205479452053], \"xaxis\": \"x\", \"y\": [\"Monumentenstra\\u00dfe\"], \"yaxis\": \"y\"}, {\"alignmentgroup\": \"True\", \"hovertemplate\": \"color=Jannowitzbr\\u00fccke Nord<br>Total Bikes=%{x}<br>Bicycle Counter=%{y}<extra></extra>\", \"legendgroup\": \"Jannowitzbr\\u00fccke Nord\", \"marker\": {\"color\": \"lightslategray\"}, \"name\": \"Jannowitzbr\\u00fccke Nord\", \"offsetgroup\": \"Jannowitzbr\\u00fccke Nord\", \"orientation\": \"h\", \"showlegend\": true, \"textposition\": \"auto\", \"type\": \"bar\", \"x\": [4022.035616438356], \"xaxis\": \"x\", \"y\": [\"Jannowitzbr\\u00fccke Nord\"], \"yaxis\": \"y\"}, {\"alignmentgroup\": \"True\", \"hovertemplate\": \"color=Jannowitzbr\\u00fccke S\\u00fcd<br>Total Bikes=%{x}<br>Bicycle Counter=%{y}<extra></extra>\", \"legendgroup\": \"Jannowitzbr\\u00fccke S\\u00fcd\", \"marker\": {\"color\": \"lightslategray\"}, \"name\": \"Jannowitzbr\\u00fccke S\\u00fcd\", \"offsetgroup\": \"Jannowitzbr\\u00fccke S\\u00fcd\", \"orientation\": \"h\", \"showlegend\": true, \"textposition\": \"auto\", \"type\": \"bar\", \"x\": [4198.454794520548], \"xaxis\": \"x\", \"y\": [\"Jannowitzbr\\u00fccke S\\u00fcd\"], \"yaxis\": \"y\"}, {\"alignmentgroup\": \"True\", \"hovertemplate\": \"color=Maybachufer<br>Total Bikes=%{x}<br>Bicycle Counter=%{y}<extra></extra>\", \"legendgroup\": \"Maybachufer\", \"marker\": {\"color\": \"lightslategray\"}, \"name\": \"Maybachufer\", \"offsetgroup\": \"Maybachufer\", \"orientation\": \"h\", \"showlegend\": true, \"textposition\": \"auto\", \"type\": \"bar\", \"x\": [5030.750684931507], \"xaxis\": \"x\", \"y\": [\"Maybachufer\"], \"yaxis\": \"y\"}],                        {\"annotations\": [{\"font\": {\"color\": \"black\", \"family\": \"Arial\", \"size\": 100}, \"opacity\": 0.1, \"showarrow\": false, \"text\": \"2019\", \"x\": 1, \"xref\": \"paper\", \"y\": -0.06, \"yref\": \"paper\"}], \"barmode\": \"relative\", \"legend\": {\"title\": {\"text\": \"color\"}, \"tracegroupgap\": 0}, \"margin\": {\"t\": 60}, \"template\": {\"data\": {\"bar\": [{\"error_x\": {\"color\": \"rgb(51,51,51)\"}, \"error_y\": {\"color\": \"rgb(51,51,51)\"}, \"marker\": {\"line\": {\"color\": \"rgb(237,237,237)\", \"width\": 0.5}}, \"type\": \"bar\"}], \"barpolar\": [{\"marker\": {\"line\": {\"color\": \"rgb(237,237,237)\", \"width\": 0.5}}, \"type\": \"barpolar\"}], \"carpet\": [{\"aaxis\": {\"endlinecolor\": \"rgb(51,51,51)\", \"gridcolor\": \"white\", \"linecolor\": \"white\", \"minorgridcolor\": \"white\", \"startlinecolor\": \"rgb(51,51,51)\"}, \"baxis\": {\"endlinecolor\": \"rgb(51,51,51)\", \"gridcolor\": \"white\", \"linecolor\": \"white\", \"minorgridcolor\": \"white\", \"startlinecolor\": \"rgb(51,51,51)\"}, \"type\": \"carpet\"}], \"choropleth\": [{\"colorbar\": {\"outlinewidth\": 0, \"tickcolor\": \"rgb(237,237,237)\", \"ticklen\": 6, \"ticks\": \"inside\"}, \"type\": \"choropleth\"}], \"contour\": [{\"colorbar\": {\"outlinewidth\": 0, \"tickcolor\": \"rgb(237,237,237)\", \"ticklen\": 6, \"ticks\": \"inside\"}, \"colorscale\": [[0, \"rgb(20,44,66)\"], [1, \"rgb(90,179,244)\"]], \"type\": \"contour\"}], \"contourcarpet\": [{\"colorbar\": {\"outlinewidth\": 0, \"tickcolor\": \"rgb(237,237,237)\", \"ticklen\": 6, \"ticks\": \"inside\"}, \"type\": \"contourcarpet\"}], \"heatmap\": [{\"colorbar\": {\"outlinewidth\": 0, \"tickcolor\": \"rgb(237,237,237)\", \"ticklen\": 6, \"ticks\": \"inside\"}, \"colorscale\": [[0, \"rgb(20,44,66)\"], [1, \"rgb(90,179,244)\"]], \"type\": \"heatmap\"}], \"heatmapgl\": [{\"colorbar\": {\"outlinewidth\": 0, \"tickcolor\": \"rgb(237,237,237)\", \"ticklen\": 6, \"ticks\": \"inside\"}, \"colorscale\": [[0, \"rgb(20,44,66)\"], [1, \"rgb(90,179,244)\"]], \"type\": \"heatmapgl\"}], \"histogram\": [{\"marker\": {\"colorbar\": {\"outlinewidth\": 0, \"tickcolor\": \"rgb(237,237,237)\", \"ticklen\": 6, \"ticks\": \"inside\"}}, \"type\": \"histogram\"}], \"histogram2d\": [{\"colorbar\": {\"outlinewidth\": 0, \"tickcolor\": \"rgb(237,237,237)\", \"ticklen\": 6, \"ticks\": \"inside\"}, \"colorscale\": [[0, \"rgb(20,44,66)\"], [1, \"rgb(90,179,244)\"]], \"type\": \"histogram2d\"}], \"histogram2dcontour\": [{\"colorbar\": {\"outlinewidth\": 0, \"tickcolor\": \"rgb(237,237,237)\", \"ticklen\": 6, \"ticks\": \"inside\"}, \"colorscale\": [[0, \"rgb(20,44,66)\"], [1, \"rgb(90,179,244)\"]], \"type\": \"histogram2dcontour\"}], \"mesh3d\": [{\"colorbar\": {\"outlinewidth\": 0, \"tickcolor\": \"rgb(237,237,237)\", \"ticklen\": 6, \"ticks\": \"inside\"}, \"type\": \"mesh3d\"}], \"parcoords\": [{\"line\": {\"colorbar\": {\"outlinewidth\": 0, \"tickcolor\": \"rgb(237,237,237)\", \"ticklen\": 6, \"ticks\": \"inside\"}}, \"type\": \"parcoords\"}], \"pie\": [{\"automargin\": true, \"type\": \"pie\"}], \"scatter\": [{\"marker\": {\"colorbar\": {\"outlinewidth\": 0, \"tickcolor\": \"rgb(237,237,237)\", \"ticklen\": 6, \"ticks\": \"inside\"}}, \"type\": \"scatter\"}], \"scatter3d\": [{\"line\": {\"colorbar\": {\"outlinewidth\": 0, \"tickcolor\": \"rgb(237,237,237)\", \"ticklen\": 6, \"ticks\": \"inside\"}}, \"marker\": {\"colorbar\": {\"outlinewidth\": 0, \"tickcolor\": \"rgb(237,237,237)\", \"ticklen\": 6, \"ticks\": \"inside\"}}, \"type\": \"scatter3d\"}], \"scattercarpet\": [{\"marker\": {\"colorbar\": {\"outlinewidth\": 0, \"tickcolor\": \"rgb(237,237,237)\", \"ticklen\": 6, \"ticks\": \"inside\"}}, \"type\": \"scattercarpet\"}], \"scattergeo\": [{\"marker\": {\"colorbar\": {\"outlinewidth\": 0, \"tickcolor\": \"rgb(237,237,237)\", \"ticklen\": 6, \"ticks\": \"inside\"}}, \"type\": \"scattergeo\"}], \"scattergl\": [{\"marker\": {\"colorbar\": {\"outlinewidth\": 0, \"tickcolor\": \"rgb(237,237,237)\", \"ticklen\": 6, \"ticks\": \"inside\"}}, \"type\": \"scattergl\"}], \"scattermapbox\": [{\"marker\": {\"colorbar\": {\"outlinewidth\": 0, \"tickcolor\": \"rgb(237,237,237)\", \"ticklen\": 6, \"ticks\": \"inside\"}}, \"type\": \"scattermapbox\"}], \"scatterpolar\": [{\"marker\": {\"colorbar\": {\"outlinewidth\": 0, \"tickcolor\": \"rgb(237,237,237)\", \"ticklen\": 6, \"ticks\": \"inside\"}}, \"type\": \"scatterpolar\"}], \"scatterpolargl\": [{\"marker\": {\"colorbar\": {\"outlinewidth\": 0, \"tickcolor\": \"rgb(237,237,237)\", \"ticklen\": 6, \"ticks\": \"inside\"}}, \"type\": \"scatterpolargl\"}], \"scatterternary\": [{\"marker\": {\"colorbar\": {\"outlinewidth\": 0, \"tickcolor\": \"rgb(237,237,237)\", \"ticklen\": 6, \"ticks\": \"inside\"}}, \"type\": \"scatterternary\"}], \"surface\": [{\"colorbar\": {\"outlinewidth\": 0, \"tickcolor\": \"rgb(237,237,237)\", \"ticklen\": 6, \"ticks\": \"inside\"}, \"colorscale\": [[0, \"rgb(20,44,66)\"], [1, \"rgb(90,179,244)\"]], \"type\": \"surface\"}], \"table\": [{\"cells\": {\"fill\": {\"color\": \"rgb(237,237,237)\"}, \"line\": {\"color\": \"white\"}}, \"header\": {\"fill\": {\"color\": \"rgb(217,217,217)\"}, \"line\": {\"color\": \"white\"}}, \"type\": \"table\"}]}, \"layout\": {\"annotationdefaults\": {\"arrowhead\": 0, \"arrowwidth\": 1}, \"coloraxis\": {\"colorbar\": {\"outlinewidth\": 0, \"tickcolor\": \"rgb(237,237,237)\", \"ticklen\": 6, \"ticks\": \"inside\"}}, \"colorscale\": {\"sequential\": [[0, \"rgb(20,44,66)\"], [1, \"rgb(90,179,244)\"]], \"sequentialminus\": [[0, \"rgb(20,44,66)\"], [1, \"rgb(90,179,244)\"]]}, \"colorway\": [\"#F8766D\", \"#A3A500\", \"#00BF7D\", \"#00B0F6\", \"#E76BF3\"], \"font\": {\"color\": \"rgb(51,51,51)\"}, \"geo\": {\"bgcolor\": \"white\", \"lakecolor\": \"white\", \"landcolor\": \"rgb(237,237,237)\", \"showlakes\": true, \"showland\": true, \"subunitcolor\": \"white\"}, \"hoverlabel\": {\"align\": \"left\"}, \"hovermode\": \"closest\", \"paper_bgcolor\": \"white\", \"plot_bgcolor\": \"rgb(237,237,237)\", \"polar\": {\"angularaxis\": {\"gridcolor\": \"white\", \"linecolor\": \"white\", \"showgrid\": true, \"tickcolor\": \"rgb(51,51,51)\", \"ticks\": \"outside\"}, \"bgcolor\": \"rgb(237,237,237)\", \"radialaxis\": {\"gridcolor\": \"white\", \"linecolor\": \"white\", \"showgrid\": true, \"tickcolor\": \"rgb(51,51,51)\", \"ticks\": \"outside\"}}, \"scene\": {\"xaxis\": {\"backgroundcolor\": \"rgb(237,237,237)\", \"gridcolor\": \"white\", \"gridwidth\": 2, \"linecolor\": \"white\", \"showbackground\": true, \"showgrid\": true, \"tickcolor\": \"rgb(51,51,51)\", \"ticks\": \"outside\", \"zerolinecolor\": \"white\"}, \"yaxis\": {\"backgroundcolor\": \"rgb(237,237,237)\", \"gridcolor\": \"white\", \"gridwidth\": 2, \"linecolor\": \"white\", \"showbackground\": true, \"showgrid\": true, \"tickcolor\": \"rgb(51,51,51)\", \"ticks\": \"outside\", \"zerolinecolor\": \"white\"}, \"zaxis\": {\"backgroundcolor\": \"rgb(237,237,237)\", \"gridcolor\": \"white\", \"gridwidth\": 2, \"linecolor\": \"white\", \"showbackground\": true, \"showgrid\": true, \"tickcolor\": \"rgb(51,51,51)\", \"ticks\": \"outside\", \"zerolinecolor\": \"white\"}}, \"shapedefaults\": {\"fillcolor\": \"black\", \"line\": {\"width\": 0}, \"opacity\": 0.3}, \"ternary\": {\"aaxis\": {\"gridcolor\": \"white\", \"linecolor\": \"white\", \"showgrid\": true, \"tickcolor\": \"rgb(51,51,51)\", \"ticks\": \"outside\"}, \"baxis\": {\"gridcolor\": \"white\", \"linecolor\": \"white\", \"showgrid\": true, \"tickcolor\": \"rgb(51,51,51)\", \"ticks\": \"outside\"}, \"bgcolor\": \"rgb(237,237,237)\", \"caxis\": {\"gridcolor\": \"white\", \"linecolor\": \"white\", \"showgrid\": true, \"tickcolor\": \"rgb(51,51,51)\", \"ticks\": \"outside\"}}, \"xaxis\": {\"automargin\": true, \"gridcolor\": \"white\", \"linecolor\": \"white\", \"showgrid\": true, \"tickcolor\": \"rgb(51,51,51)\", \"ticks\": \"outside\", \"title\": {\"standoff\": 15}, \"zerolinecolor\": \"white\"}, \"yaxis\": {\"automargin\": true, \"gridcolor\": \"white\", \"linecolor\": \"white\", \"showgrid\": true, \"tickcolor\": \"rgb(51,51,51)\", \"ticks\": \"outside\", \"title\": {\"standoff\": 15}, \"zerolinecolor\": \"white\"}}}, \"xaxis\": {\"anchor\": \"y\", \"domain\": [0.0, 1.0], \"title\": {\"text\": \"Total Bikes\"}}, \"yaxis\": {\"anchor\": \"x\", \"domain\": [0.0, 1.0], \"title\": {\"text\": \"Bicycle Counter\"}}},                        {\"responsive\": true}                    ).then(function(){\n",
       "                            \n",
       "var gd = document.getElementById('4dd45ac6-4246-4f39-87b7-9c6f2f7c129d');\n",
       "var x = new MutationObserver(function (mutations, observer) {{\n",
       "        var display = window.getComputedStyle(gd).display;\n",
       "        if (!display || display === 'none') {{\n",
       "            console.log([gd, 'removed!']);\n",
       "            Plotly.purge(gd);\n",
       "            observer.disconnect();\n",
       "        }}\n",
       "}});\n",
       "\n",
       "// Listen for the removal of the full notebook cells\n",
       "var notebookContainer = gd.closest('#notebook-container');\n",
       "if (notebookContainer) {{\n",
       "    x.observe(notebookContainer, {childList: true});\n",
       "}}\n",
       "\n",
       "// Listen for the clearing of the current output cell\n",
       "var outputEl = gd.closest('.output');\n",
       "if (outputEl) {{\n",
       "    x.observe(outputEl, {childList: true});\n",
       "}}\n",
       "\n",
       "                        })                };                });            </script>        </div>"
      ]
     },
     "metadata": {},
     "output_type": "display_data"
    }
   ],
   "source": [
    "# Barchart with Total Bikes by year and bicycle counter\n",
    "fig = px.bar(bikes_df.reset_index(), x=\"total_bikes\", y=\"description\", color=stations_list, color_discrete_map=color_map, orientation='h', labels={\"total_bikes\": \"Total Bikes\", \"description\": \"Bicycle Counter\"})\n",
    "fig.add_annotation(text=f\"{comparison.years_string}\",\n",
    "                  xref=\"paper\", yref=\"paper\",\n",
    "                  x=1, y=-0.06, showarrow=False,\n",
    "                  opacity=0.1,\n",
    "                  font=dict(family='Arial', size=100, color=\"black\"))\n",
    "fig.show()"
   ]
  },
  {
   "cell_type": "markdown",
   "metadata": {},
   "source": [
    "### Total Bikes across all stations as indicator"
   ]
  },
  {
   "cell_type": "code",
   "execution_count": 11,
   "metadata": {},
   "outputs": [
    {
     "data": {
      "text/plain": [
       "18024377"
      ]
     },
     "execution_count": 11,
     "metadata": {},
     "output_type": "execute_result"
    }
   ],
   "source": [
    "# Calculate total bikes for chosen timeframe\n",
    "sum_total_bikes = int(df[df.index.year.isin(comparison.years)].groupby('description')[['total_bikes']].sum().groupby('description')[['total_bikes']].sum().sum())\n",
    "sum_total_bikes"
   ]
  },
  {
   "cell_type": "code",
   "execution_count": 12,
   "metadata": {},
   "outputs": [
    {
     "data": {
      "application/vnd.plotly.v1+json": {
       "config": {
        "plotlyServerURL": "https://plot.ly"
       },
       "data": [
        {
         "domain": {
          "column": 1,
          "row": 0
         },
         "mode": "number",
         "type": "indicator",
         "value": 18024377
        }
       ],
       "layout": {
        "grid": {
         "columns": 1,
         "pattern": "independent",
         "rows": 1
        },
        "template": {
         "data": {
          "bar": [
           {
            "error_x": {
             "color": "#2a3f5f"
            },
            "error_y": {
             "color": "#2a3f5f"
            },
            "marker": {
             "line": {
              "color": "#E5ECF6",
              "width": 0.5
             }
            },
            "type": "bar"
           }
          ],
          "barpolar": [
           {
            "marker": {
             "line": {
              "color": "#E5ECF6",
              "width": 0.5
             }
            },
            "type": "barpolar"
           }
          ],
          "carpet": [
           {
            "aaxis": {
             "endlinecolor": "#2a3f5f",
             "gridcolor": "white",
             "linecolor": "white",
             "minorgridcolor": "white",
             "startlinecolor": "#2a3f5f"
            },
            "baxis": {
             "endlinecolor": "#2a3f5f",
             "gridcolor": "white",
             "linecolor": "white",
             "minorgridcolor": "white",
             "startlinecolor": "#2a3f5f"
            },
            "type": "carpet"
           }
          ],
          "choropleth": [
           {
            "colorbar": {
             "outlinewidth": 0,
             "ticks": ""
            },
            "type": "choropleth"
           }
          ],
          "contour": [
           {
            "colorbar": {
             "outlinewidth": 0,
             "ticks": ""
            },
            "colorscale": [
             [
              0,
              "#0d0887"
             ],
             [
              0.1111111111111111,
              "#46039f"
             ],
             [
              0.2222222222222222,
              "#7201a8"
             ],
             [
              0.3333333333333333,
              "#9c179e"
             ],
             [
              0.4444444444444444,
              "#bd3786"
             ],
             [
              0.5555555555555556,
              "#d8576b"
             ],
             [
              0.6666666666666666,
              "#ed7953"
             ],
             [
              0.7777777777777778,
              "#fb9f3a"
             ],
             [
              0.8888888888888888,
              "#fdca26"
             ],
             [
              1,
              "#f0f921"
             ]
            ],
            "type": "contour"
           }
          ],
          "contourcarpet": [
           {
            "colorbar": {
             "outlinewidth": 0,
             "ticks": ""
            },
            "type": "contourcarpet"
           }
          ],
          "heatmap": [
           {
            "colorbar": {
             "outlinewidth": 0,
             "ticks": ""
            },
            "colorscale": [
             [
              0,
              "#0d0887"
             ],
             [
              0.1111111111111111,
              "#46039f"
             ],
             [
              0.2222222222222222,
              "#7201a8"
             ],
             [
              0.3333333333333333,
              "#9c179e"
             ],
             [
              0.4444444444444444,
              "#bd3786"
             ],
             [
              0.5555555555555556,
              "#d8576b"
             ],
             [
              0.6666666666666666,
              "#ed7953"
             ],
             [
              0.7777777777777778,
              "#fb9f3a"
             ],
             [
              0.8888888888888888,
              "#fdca26"
             ],
             [
              1,
              "#f0f921"
             ]
            ],
            "type": "heatmap"
           }
          ],
          "heatmapgl": [
           {
            "colorbar": {
             "outlinewidth": 0,
             "ticks": ""
            },
            "colorscale": [
             [
              0,
              "#0d0887"
             ],
             [
              0.1111111111111111,
              "#46039f"
             ],
             [
              0.2222222222222222,
              "#7201a8"
             ],
             [
              0.3333333333333333,
              "#9c179e"
             ],
             [
              0.4444444444444444,
              "#bd3786"
             ],
             [
              0.5555555555555556,
              "#d8576b"
             ],
             [
              0.6666666666666666,
              "#ed7953"
             ],
             [
              0.7777777777777778,
              "#fb9f3a"
             ],
             [
              0.8888888888888888,
              "#fdca26"
             ],
             [
              1,
              "#f0f921"
             ]
            ],
            "type": "heatmapgl"
           }
          ],
          "histogram": [
           {
            "marker": {
             "colorbar": {
              "outlinewidth": 0,
              "ticks": ""
             }
            },
            "type": "histogram"
           }
          ],
          "histogram2d": [
           {
            "colorbar": {
             "outlinewidth": 0,
             "ticks": ""
            },
            "colorscale": [
             [
              0,
              "#0d0887"
             ],
             [
              0.1111111111111111,
              "#46039f"
             ],
             [
              0.2222222222222222,
              "#7201a8"
             ],
             [
              0.3333333333333333,
              "#9c179e"
             ],
             [
              0.4444444444444444,
              "#bd3786"
             ],
             [
              0.5555555555555556,
              "#d8576b"
             ],
             [
              0.6666666666666666,
              "#ed7953"
             ],
             [
              0.7777777777777778,
              "#fb9f3a"
             ],
             [
              0.8888888888888888,
              "#fdca26"
             ],
             [
              1,
              "#f0f921"
             ]
            ],
            "type": "histogram2d"
           }
          ],
          "histogram2dcontour": [
           {
            "colorbar": {
             "outlinewidth": 0,
             "ticks": ""
            },
            "colorscale": [
             [
              0,
              "#0d0887"
             ],
             [
              0.1111111111111111,
              "#46039f"
             ],
             [
              0.2222222222222222,
              "#7201a8"
             ],
             [
              0.3333333333333333,
              "#9c179e"
             ],
             [
              0.4444444444444444,
              "#bd3786"
             ],
             [
              0.5555555555555556,
              "#d8576b"
             ],
             [
              0.6666666666666666,
              "#ed7953"
             ],
             [
              0.7777777777777778,
              "#fb9f3a"
             ],
             [
              0.8888888888888888,
              "#fdca26"
             ],
             [
              1,
              "#f0f921"
             ]
            ],
            "type": "histogram2dcontour"
           }
          ],
          "indicator": [
           {
            "title": {
             "text": "Total Bikes (2019)"
            },
            "type": "indicator"
           }
          ],
          "mesh3d": [
           {
            "colorbar": {
             "outlinewidth": 0,
             "ticks": ""
            },
            "type": "mesh3d"
           }
          ],
          "parcoords": [
           {
            "line": {
             "colorbar": {
              "outlinewidth": 0,
              "ticks": ""
             }
            },
            "type": "parcoords"
           }
          ],
          "pie": [
           {
            "automargin": true,
            "type": "pie"
           }
          ],
          "scatter": [
           {
            "marker": {
             "colorbar": {
              "outlinewidth": 0,
              "ticks": ""
             }
            },
            "type": "scatter"
           }
          ],
          "scatter3d": [
           {
            "line": {
             "colorbar": {
              "outlinewidth": 0,
              "ticks": ""
             }
            },
            "marker": {
             "colorbar": {
              "outlinewidth": 0,
              "ticks": ""
             }
            },
            "type": "scatter3d"
           }
          ],
          "scattercarpet": [
           {
            "marker": {
             "colorbar": {
              "outlinewidth": 0,
              "ticks": ""
             }
            },
            "type": "scattercarpet"
           }
          ],
          "scattergeo": [
           {
            "marker": {
             "colorbar": {
              "outlinewidth": 0,
              "ticks": ""
             }
            },
            "type": "scattergeo"
           }
          ],
          "scattergl": [
           {
            "marker": {
             "colorbar": {
              "outlinewidth": 0,
              "ticks": ""
             }
            },
            "type": "scattergl"
           }
          ],
          "scattermapbox": [
           {
            "marker": {
             "colorbar": {
              "outlinewidth": 0,
              "ticks": ""
             }
            },
            "type": "scattermapbox"
           }
          ],
          "scatterpolar": [
           {
            "marker": {
             "colorbar": {
              "outlinewidth": 0,
              "ticks": ""
             }
            },
            "type": "scatterpolar"
           }
          ],
          "scatterpolargl": [
           {
            "marker": {
             "colorbar": {
              "outlinewidth": 0,
              "ticks": ""
             }
            },
            "type": "scatterpolargl"
           }
          ],
          "scatterternary": [
           {
            "marker": {
             "colorbar": {
              "outlinewidth": 0,
              "ticks": ""
             }
            },
            "type": "scatterternary"
           }
          ],
          "surface": [
           {
            "colorbar": {
             "outlinewidth": 0,
             "ticks": ""
            },
            "colorscale": [
             [
              0,
              "#0d0887"
             ],
             [
              0.1111111111111111,
              "#46039f"
             ],
             [
              0.2222222222222222,
              "#7201a8"
             ],
             [
              0.3333333333333333,
              "#9c179e"
             ],
             [
              0.4444444444444444,
              "#bd3786"
             ],
             [
              0.5555555555555556,
              "#d8576b"
             ],
             [
              0.6666666666666666,
              "#ed7953"
             ],
             [
              0.7777777777777778,
              "#fb9f3a"
             ],
             [
              0.8888888888888888,
              "#fdca26"
             ],
             [
              1,
              "#f0f921"
             ]
            ],
            "type": "surface"
           }
          ],
          "table": [
           {
            "cells": {
             "fill": {
              "color": "#EBF0F8"
             },
             "line": {
              "color": "white"
             }
            },
            "header": {
             "fill": {
              "color": "#C8D4E3"
             },
             "line": {
              "color": "white"
             }
            },
            "type": "table"
           }
          ]
         },
         "layout": {
          "annotationdefaults": {
           "arrowcolor": "#2a3f5f",
           "arrowhead": 0,
           "arrowwidth": 1
          },
          "coloraxis": {
           "colorbar": {
            "outlinewidth": 0,
            "ticks": ""
           }
          },
          "colorscale": {
           "diverging": [
            [
             0,
             "#8e0152"
            ],
            [
             0.1,
             "#c51b7d"
            ],
            [
             0.2,
             "#de77ae"
            ],
            [
             0.3,
             "#f1b6da"
            ],
            [
             0.4,
             "#fde0ef"
            ],
            [
             0.5,
             "#f7f7f7"
            ],
            [
             0.6,
             "#e6f5d0"
            ],
            [
             0.7,
             "#b8e186"
            ],
            [
             0.8,
             "#7fbc41"
            ],
            [
             0.9,
             "#4d9221"
            ],
            [
             1,
             "#276419"
            ]
           ],
           "sequential": [
            [
             0,
             "#0d0887"
            ],
            [
             0.1111111111111111,
             "#46039f"
            ],
            [
             0.2222222222222222,
             "#7201a8"
            ],
            [
             0.3333333333333333,
             "#9c179e"
            ],
            [
             0.4444444444444444,
             "#bd3786"
            ],
            [
             0.5555555555555556,
             "#d8576b"
            ],
            [
             0.6666666666666666,
             "#ed7953"
            ],
            [
             0.7777777777777778,
             "#fb9f3a"
            ],
            [
             0.8888888888888888,
             "#fdca26"
            ],
            [
             1,
             "#f0f921"
            ]
           ],
           "sequentialminus": [
            [
             0,
             "#0d0887"
            ],
            [
             0.1111111111111111,
             "#46039f"
            ],
            [
             0.2222222222222222,
             "#7201a8"
            ],
            [
             0.3333333333333333,
             "#9c179e"
            ],
            [
             0.4444444444444444,
             "#bd3786"
            ],
            [
             0.5555555555555556,
             "#d8576b"
            ],
            [
             0.6666666666666666,
             "#ed7953"
            ],
            [
             0.7777777777777778,
             "#fb9f3a"
            ],
            [
             0.8888888888888888,
             "#fdca26"
            ],
            [
             1,
             "#f0f921"
            ]
           ]
          },
          "colorway": [
           "#636efa",
           "#EF553B",
           "#00cc96",
           "#ab63fa",
           "#FFA15A",
           "#19d3f3",
           "#FF6692",
           "#B6E880",
           "#FF97FF",
           "#FECB52"
          ],
          "font": {
           "color": "#2a3f5f"
          },
          "geo": {
           "bgcolor": "white",
           "lakecolor": "white",
           "landcolor": "#E5ECF6",
           "showlakes": true,
           "showland": true,
           "subunitcolor": "white"
          },
          "hoverlabel": {
           "align": "left"
          },
          "hovermode": "closest",
          "mapbox": {
           "style": "light"
          },
          "paper_bgcolor": "white",
          "plot_bgcolor": "#E5ECF6",
          "polar": {
           "angularaxis": {
            "gridcolor": "white",
            "linecolor": "white",
            "ticks": ""
           },
           "bgcolor": "#E5ECF6",
           "radialaxis": {
            "gridcolor": "white",
            "linecolor": "white",
            "ticks": ""
           }
          },
          "scene": {
           "xaxis": {
            "backgroundcolor": "#E5ECF6",
            "gridcolor": "white",
            "gridwidth": 2,
            "linecolor": "white",
            "showbackground": true,
            "ticks": "",
            "zerolinecolor": "white"
           },
           "yaxis": {
            "backgroundcolor": "#E5ECF6",
            "gridcolor": "white",
            "gridwidth": 2,
            "linecolor": "white",
            "showbackground": true,
            "ticks": "",
            "zerolinecolor": "white"
           },
           "zaxis": {
            "backgroundcolor": "#E5ECF6",
            "gridcolor": "white",
            "gridwidth": 2,
            "linecolor": "white",
            "showbackground": true,
            "ticks": "",
            "zerolinecolor": "white"
           }
          },
          "shapedefaults": {
           "line": {
            "color": "#2a3f5f"
           }
          },
          "ternary": {
           "aaxis": {
            "gridcolor": "white",
            "linecolor": "white",
            "ticks": ""
           },
           "baxis": {
            "gridcolor": "white",
            "linecolor": "white",
            "ticks": ""
           },
           "bgcolor": "#E5ECF6",
           "caxis": {
            "gridcolor": "white",
            "linecolor": "white",
            "ticks": ""
           }
          },
          "title": {
           "x": 0.05
          },
          "xaxis": {
           "automargin": true,
           "gridcolor": "white",
           "linecolor": "white",
           "ticks": "",
           "title": {
            "standoff": 15
           },
           "zerolinecolor": "white",
           "zerolinewidth": 2
          },
          "yaxis": {
           "automargin": true,
           "gridcolor": "white",
           "linecolor": "white",
           "ticks": "",
           "title": {
            "standoff": 15
           },
           "zerolinecolor": "white",
           "zerolinewidth": 2
          }
         }
        }
       }
      },
      "text/html": [
       "<div>                            <div id=\"91fecc49-99d3-4696-bc28-dbc8d55ea254\" class=\"plotly-graph-div\" style=\"height:525px; width:100%;\"></div>            <script type=\"text/javascript\">                require([\"plotly\"], function(Plotly) {                    window.PLOTLYENV=window.PLOTLYENV || {};                                    if (document.getElementById(\"91fecc49-99d3-4696-bc28-dbc8d55ea254\")) {                    Plotly.newPlot(                        \"91fecc49-99d3-4696-bc28-dbc8d55ea254\",                        [{\"domain\": {\"column\": 1, \"row\": 0}, \"mode\": \"number\", \"type\": \"indicator\", \"value\": 18024377}],                        {\"grid\": {\"columns\": 1, \"pattern\": \"independent\", \"rows\": 1}, \"template\": {\"data\": {\"bar\": [{\"error_x\": {\"color\": \"#2a3f5f\"}, \"error_y\": {\"color\": \"#2a3f5f\"}, \"marker\": {\"line\": {\"color\": \"#E5ECF6\", \"width\": 0.5}}, \"type\": \"bar\"}], \"barpolar\": [{\"marker\": {\"line\": {\"color\": \"#E5ECF6\", \"width\": 0.5}}, \"type\": \"barpolar\"}], \"carpet\": [{\"aaxis\": {\"endlinecolor\": \"#2a3f5f\", \"gridcolor\": \"white\", \"linecolor\": \"white\", \"minorgridcolor\": \"white\", \"startlinecolor\": \"#2a3f5f\"}, \"baxis\": {\"endlinecolor\": \"#2a3f5f\", \"gridcolor\": \"white\", \"linecolor\": \"white\", \"minorgridcolor\": \"white\", \"startlinecolor\": \"#2a3f5f\"}, \"type\": \"carpet\"}], \"choropleth\": [{\"colorbar\": {\"outlinewidth\": 0, \"ticks\": \"\"}, \"type\": \"choropleth\"}], \"contour\": [{\"colorbar\": {\"outlinewidth\": 0, \"ticks\": \"\"}, \"colorscale\": [[0.0, \"#0d0887\"], [0.1111111111111111, \"#46039f\"], [0.2222222222222222, \"#7201a8\"], [0.3333333333333333, \"#9c179e\"], [0.4444444444444444, \"#bd3786\"], [0.5555555555555556, \"#d8576b\"], [0.6666666666666666, \"#ed7953\"], [0.7777777777777778, \"#fb9f3a\"], [0.8888888888888888, \"#fdca26\"], [1.0, \"#f0f921\"]], \"type\": \"contour\"}], \"contourcarpet\": [{\"colorbar\": {\"outlinewidth\": 0, \"ticks\": \"\"}, \"type\": \"contourcarpet\"}], \"heatmap\": [{\"colorbar\": {\"outlinewidth\": 0, \"ticks\": \"\"}, \"colorscale\": [[0.0, \"#0d0887\"], [0.1111111111111111, \"#46039f\"], [0.2222222222222222, \"#7201a8\"], [0.3333333333333333, \"#9c179e\"], [0.4444444444444444, \"#bd3786\"], [0.5555555555555556, \"#d8576b\"], [0.6666666666666666, \"#ed7953\"], [0.7777777777777778, \"#fb9f3a\"], [0.8888888888888888, \"#fdca26\"], [1.0, \"#f0f921\"]], \"type\": \"heatmap\"}], \"heatmapgl\": [{\"colorbar\": {\"outlinewidth\": 0, \"ticks\": \"\"}, \"colorscale\": [[0.0, \"#0d0887\"], [0.1111111111111111, \"#46039f\"], [0.2222222222222222, \"#7201a8\"], [0.3333333333333333, \"#9c179e\"], [0.4444444444444444, \"#bd3786\"], [0.5555555555555556, \"#d8576b\"], [0.6666666666666666, \"#ed7953\"], [0.7777777777777778, \"#fb9f3a\"], [0.8888888888888888, \"#fdca26\"], [1.0, \"#f0f921\"]], \"type\": \"heatmapgl\"}], \"histogram\": [{\"marker\": {\"colorbar\": {\"outlinewidth\": 0, \"ticks\": \"\"}}, \"type\": \"histogram\"}], \"histogram2d\": [{\"colorbar\": {\"outlinewidth\": 0, \"ticks\": \"\"}, \"colorscale\": [[0.0, \"#0d0887\"], [0.1111111111111111, \"#46039f\"], [0.2222222222222222, \"#7201a8\"], [0.3333333333333333, \"#9c179e\"], [0.4444444444444444, \"#bd3786\"], [0.5555555555555556, \"#d8576b\"], [0.6666666666666666, \"#ed7953\"], [0.7777777777777778, \"#fb9f3a\"], [0.8888888888888888, \"#fdca26\"], [1.0, \"#f0f921\"]], \"type\": \"histogram2d\"}], \"histogram2dcontour\": [{\"colorbar\": {\"outlinewidth\": 0, \"ticks\": \"\"}, \"colorscale\": [[0.0, \"#0d0887\"], [0.1111111111111111, \"#46039f\"], [0.2222222222222222, \"#7201a8\"], [0.3333333333333333, \"#9c179e\"], [0.4444444444444444, \"#bd3786\"], [0.5555555555555556, \"#d8576b\"], [0.6666666666666666, \"#ed7953\"], [0.7777777777777778, \"#fb9f3a\"], [0.8888888888888888, \"#fdca26\"], [1.0, \"#f0f921\"]], \"type\": \"histogram2dcontour\"}], \"indicator\": [{\"title\": {\"text\": \"Total Bikes (2019)\"}, \"type\": \"indicator\"}], \"mesh3d\": [{\"colorbar\": {\"outlinewidth\": 0, \"ticks\": \"\"}, \"type\": \"mesh3d\"}], \"parcoords\": [{\"line\": {\"colorbar\": {\"outlinewidth\": 0, \"ticks\": \"\"}}, \"type\": \"parcoords\"}], \"pie\": [{\"automargin\": true, \"type\": \"pie\"}], \"scatter\": [{\"marker\": {\"colorbar\": {\"outlinewidth\": 0, \"ticks\": \"\"}}, \"type\": \"scatter\"}], \"scatter3d\": [{\"line\": {\"colorbar\": {\"outlinewidth\": 0, \"ticks\": \"\"}}, \"marker\": {\"colorbar\": {\"outlinewidth\": 0, \"ticks\": \"\"}}, \"type\": \"scatter3d\"}], \"scattercarpet\": [{\"marker\": {\"colorbar\": {\"outlinewidth\": 0, \"ticks\": \"\"}}, \"type\": \"scattercarpet\"}], \"scattergeo\": [{\"marker\": {\"colorbar\": {\"outlinewidth\": 0, \"ticks\": \"\"}}, \"type\": \"scattergeo\"}], \"scattergl\": [{\"marker\": {\"colorbar\": {\"outlinewidth\": 0, \"ticks\": \"\"}}, \"type\": \"scattergl\"}], \"scattermapbox\": [{\"marker\": {\"colorbar\": {\"outlinewidth\": 0, \"ticks\": \"\"}}, \"type\": \"scattermapbox\"}], \"scatterpolar\": [{\"marker\": {\"colorbar\": {\"outlinewidth\": 0, \"ticks\": \"\"}}, \"type\": \"scatterpolar\"}], \"scatterpolargl\": [{\"marker\": {\"colorbar\": {\"outlinewidth\": 0, \"ticks\": \"\"}}, \"type\": \"scatterpolargl\"}], \"scatterternary\": [{\"marker\": {\"colorbar\": {\"outlinewidth\": 0, \"ticks\": \"\"}}, \"type\": \"scatterternary\"}], \"surface\": [{\"colorbar\": {\"outlinewidth\": 0, \"ticks\": \"\"}, \"colorscale\": [[0.0, \"#0d0887\"], [0.1111111111111111, \"#46039f\"], [0.2222222222222222, \"#7201a8\"], [0.3333333333333333, \"#9c179e\"], [0.4444444444444444, \"#bd3786\"], [0.5555555555555556, \"#d8576b\"], [0.6666666666666666, \"#ed7953\"], [0.7777777777777778, \"#fb9f3a\"], [0.8888888888888888, \"#fdca26\"], [1.0, \"#f0f921\"]], \"type\": \"surface\"}], \"table\": [{\"cells\": {\"fill\": {\"color\": \"#EBF0F8\"}, \"line\": {\"color\": \"white\"}}, \"header\": {\"fill\": {\"color\": \"#C8D4E3\"}, \"line\": {\"color\": \"white\"}}, \"type\": \"table\"}]}, \"layout\": {\"annotationdefaults\": {\"arrowcolor\": \"#2a3f5f\", \"arrowhead\": 0, \"arrowwidth\": 1}, \"coloraxis\": {\"colorbar\": {\"outlinewidth\": 0, \"ticks\": \"\"}}, \"colorscale\": {\"diverging\": [[0, \"#8e0152\"], [0.1, \"#c51b7d\"], [0.2, \"#de77ae\"], [0.3, \"#f1b6da\"], [0.4, \"#fde0ef\"], [0.5, \"#f7f7f7\"], [0.6, \"#e6f5d0\"], [0.7, \"#b8e186\"], [0.8, \"#7fbc41\"], [0.9, \"#4d9221\"], [1, \"#276419\"]], \"sequential\": [[0.0, \"#0d0887\"], [0.1111111111111111, \"#46039f\"], [0.2222222222222222, \"#7201a8\"], [0.3333333333333333, \"#9c179e\"], [0.4444444444444444, \"#bd3786\"], [0.5555555555555556, \"#d8576b\"], [0.6666666666666666, \"#ed7953\"], [0.7777777777777778, \"#fb9f3a\"], [0.8888888888888888, \"#fdca26\"], [1.0, \"#f0f921\"]], \"sequentialminus\": [[0.0, \"#0d0887\"], [0.1111111111111111, \"#46039f\"], [0.2222222222222222, \"#7201a8\"], [0.3333333333333333, \"#9c179e\"], [0.4444444444444444, \"#bd3786\"], [0.5555555555555556, \"#d8576b\"], [0.6666666666666666, \"#ed7953\"], [0.7777777777777778, \"#fb9f3a\"], [0.8888888888888888, \"#fdca26\"], [1.0, \"#f0f921\"]]}, \"colorway\": [\"#636efa\", \"#EF553B\", \"#00cc96\", \"#ab63fa\", \"#FFA15A\", \"#19d3f3\", \"#FF6692\", \"#B6E880\", \"#FF97FF\", \"#FECB52\"], \"font\": {\"color\": \"#2a3f5f\"}, \"geo\": {\"bgcolor\": \"white\", \"lakecolor\": \"white\", \"landcolor\": \"#E5ECF6\", \"showlakes\": true, \"showland\": true, \"subunitcolor\": \"white\"}, \"hoverlabel\": {\"align\": \"left\"}, \"hovermode\": \"closest\", \"mapbox\": {\"style\": \"light\"}, \"paper_bgcolor\": \"white\", \"plot_bgcolor\": \"#E5ECF6\", \"polar\": {\"angularaxis\": {\"gridcolor\": \"white\", \"linecolor\": \"white\", \"ticks\": \"\"}, \"bgcolor\": \"#E5ECF6\", \"radialaxis\": {\"gridcolor\": \"white\", \"linecolor\": \"white\", \"ticks\": \"\"}}, \"scene\": {\"xaxis\": {\"backgroundcolor\": \"#E5ECF6\", \"gridcolor\": \"white\", \"gridwidth\": 2, \"linecolor\": \"white\", \"showbackground\": true, \"ticks\": \"\", \"zerolinecolor\": \"white\"}, \"yaxis\": {\"backgroundcolor\": \"#E5ECF6\", \"gridcolor\": \"white\", \"gridwidth\": 2, \"linecolor\": \"white\", \"showbackground\": true, \"ticks\": \"\", \"zerolinecolor\": \"white\"}, \"zaxis\": {\"backgroundcolor\": \"#E5ECF6\", \"gridcolor\": \"white\", \"gridwidth\": 2, \"linecolor\": \"white\", \"showbackground\": true, \"ticks\": \"\", \"zerolinecolor\": \"white\"}}, \"shapedefaults\": {\"line\": {\"color\": \"#2a3f5f\"}}, \"ternary\": {\"aaxis\": {\"gridcolor\": \"white\", \"linecolor\": \"white\", \"ticks\": \"\"}, \"baxis\": {\"gridcolor\": \"white\", \"linecolor\": \"white\", \"ticks\": \"\"}, \"bgcolor\": \"#E5ECF6\", \"caxis\": {\"gridcolor\": \"white\", \"linecolor\": \"white\", \"ticks\": \"\"}}, \"title\": {\"x\": 0.05}, \"xaxis\": {\"automargin\": true, \"gridcolor\": \"white\", \"linecolor\": \"white\", \"ticks\": \"\", \"title\": {\"standoff\": 15}, \"zerolinecolor\": \"white\", \"zerolinewidth\": 2}, \"yaxis\": {\"automargin\": true, \"gridcolor\": \"white\", \"linecolor\": \"white\", \"ticks\": \"\", \"title\": {\"standoff\": 15}, \"zerolinecolor\": \"white\", \"zerolinewidth\": 2}}}},                        {\"responsive\": true}                    ).then(function(){\n",
       "                            \n",
       "var gd = document.getElementById('91fecc49-99d3-4696-bc28-dbc8d55ea254');\n",
       "var x = new MutationObserver(function (mutations, observer) {{\n",
       "        var display = window.getComputedStyle(gd).display;\n",
       "        if (!display || display === 'none') {{\n",
       "            console.log([gd, 'removed!']);\n",
       "            Plotly.purge(gd);\n",
       "            observer.disconnect();\n",
       "        }}\n",
       "}});\n",
       "\n",
       "// Listen for the removal of the full notebook cells\n",
       "var notebookContainer = gd.closest('#notebook-container');\n",
       "if (notebookContainer) {{\n",
       "    x.observe(notebookContainer, {childList: true});\n",
       "}}\n",
       "\n",
       "// Listen for the clearing of the current output cell\n",
       "var outputEl = gd.closest('.output');\n",
       "if (outputEl) {{\n",
       "    x.observe(outputEl, {childList: true});\n",
       "}}\n",
       "\n",
       "                        })                };                });            </script>        </div>"
      ]
     },
     "metadata": {},
     "output_type": "display_data"
    }
   ],
   "source": [
    "# Draw indicator\n",
    "fig = go.Figure()\n",
    "fig.add_trace(go.Indicator(\n",
    "    mode = \"number\",\n",
    "    value = int(sum_total_bikes),\n",
    "    domain = {'row': 0, 'column': 1}))\n",
    "fig.update_layout(\n",
    "    grid = {'rows': 1, 'columns': 1, 'pattern': \"independent\"},\n",
    "    template = {'data' : {'indicator': [{\n",
    "        'title': {'text': f\"Total Bikes ({comparison.years_string})\"},\n",
    "    }]}}\n",
    ")"
   ]
  },
  {
   "cell_type": "code",
   "execution_count": null,
   "metadata": {},
   "outputs": [],
   "source": []
  }
 ],
 "metadata": {
  "kernelspec": {
   "display_name": "Python 3",
   "language": "python",
   "name": "python3"
  },
  "language_info": {
   "codemirror_mode": {
    "name": "ipython",
    "version": 3
   },
   "file_extension": ".py",
   "mimetype": "text/x-python",
   "name": "python",
   "nbconvert_exporter": "python",
   "pygments_lexer": "ipython3",
   "version": "3.7.7"
  }
 },
 "nbformat": 4,
 "nbformat_minor": 4
}
